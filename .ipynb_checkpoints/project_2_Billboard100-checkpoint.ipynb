{
 "cells": [
  {
   "cell_type": "markdown",
   "metadata": {
    "focus": true,
    "id": "263eb813-da45-48cf-9a8f-9da76c18e470"
   },
   "source": [
    "# Billboard100 Analysis\n",
    "\n",
    "Billboard100 is a chart that tracks popular music in the United States. In this analysis we would take a look at some data related to the chart for the year of 2000. The data consists of information related to the song such as name, performer and genre and information related to the board such as date entered, date peaked and position in each week.\n",
    "\n",
    "This time round Pandas is used to load and explore the data to demonstrate how much more convenient it is when compared to the Numpy method we used last time.\n",
    "\n",
    "### Load the data"
   ]
  },
  {
   "cell_type": "code",
   "execution_count": 1,
   "metadata": {
    "collapsed": false,
    "focus": false,
    "id": "b733d2fe-6d33-41dd-a3fc-5dfe9d71d91f"
   },
   "outputs": [
    {
     "data": {
      "text/html": [
       "<div>\n",
       "<table border=\"1\" class=\"dataframe\">\n",
       "  <thead>\n",
       "    <tr style=\"text-align: right;\">\n",
       "      <th></th>\n",
       "      <th>year</th>\n",
       "      <th>artist.inverted</th>\n",
       "      <th>track</th>\n",
       "      <th>time</th>\n",
       "      <th>genre</th>\n",
       "      <th>date.entered</th>\n",
       "      <th>date.peaked</th>\n",
       "      <th>x1st.week</th>\n",
       "      <th>x2nd.week</th>\n",
       "      <th>x3rd.week</th>\n",
       "      <th>...</th>\n",
       "      <th>x67th.week</th>\n",
       "      <th>x68th.week</th>\n",
       "      <th>x69th.week</th>\n",
       "      <th>x70th.week</th>\n",
       "      <th>x71st.week</th>\n",
       "      <th>x72nd.week</th>\n",
       "      <th>x73rd.week</th>\n",
       "      <th>x74th.week</th>\n",
       "      <th>x75th.week</th>\n",
       "      <th>x76th.week</th>\n",
       "    </tr>\n",
       "  </thead>\n",
       "  <tbody>\n",
       "    <tr>\n",
       "      <th>0</th>\n",
       "      <td>2000</td>\n",
       "      <td>Destiny's Child</td>\n",
       "      <td>Independent Women Part I</td>\n",
       "      <td>3:38</td>\n",
       "      <td>Rock</td>\n",
       "      <td>2000-09-23</td>\n",
       "      <td>2000-11-18</td>\n",
       "      <td>78</td>\n",
       "      <td>63.0</td>\n",
       "      <td>49.0</td>\n",
       "      <td>...</td>\n",
       "      <td>NaN</td>\n",
       "      <td>NaN</td>\n",
       "      <td>NaN</td>\n",
       "      <td>NaN</td>\n",
       "      <td>NaN</td>\n",
       "      <td>NaN</td>\n",
       "      <td>NaN</td>\n",
       "      <td>NaN</td>\n",
       "      <td>NaN</td>\n",
       "      <td>NaN</td>\n",
       "    </tr>\n",
       "    <tr>\n",
       "      <th>1</th>\n",
       "      <td>2000</td>\n",
       "      <td>Santana</td>\n",
       "      <td>Maria, Maria</td>\n",
       "      <td>4:18</td>\n",
       "      <td>Rock</td>\n",
       "      <td>2000-02-12</td>\n",
       "      <td>2000-04-08</td>\n",
       "      <td>15</td>\n",
       "      <td>8.0</td>\n",
       "      <td>6.0</td>\n",
       "      <td>...</td>\n",
       "      <td>NaN</td>\n",
       "      <td>NaN</td>\n",
       "      <td>NaN</td>\n",
       "      <td>NaN</td>\n",
       "      <td>NaN</td>\n",
       "      <td>NaN</td>\n",
       "      <td>NaN</td>\n",
       "      <td>NaN</td>\n",
       "      <td>NaN</td>\n",
       "      <td>NaN</td>\n",
       "    </tr>\n",
       "    <tr>\n",
       "      <th>2</th>\n",
       "      <td>2000</td>\n",
       "      <td>Savage Garden</td>\n",
       "      <td>I Knew I Loved You</td>\n",
       "      <td>4:07</td>\n",
       "      <td>Rock</td>\n",
       "      <td>1999-10-23</td>\n",
       "      <td>2000-01-29</td>\n",
       "      <td>71</td>\n",
       "      <td>48.0</td>\n",
       "      <td>43.0</td>\n",
       "      <td>...</td>\n",
       "      <td>NaN</td>\n",
       "      <td>NaN</td>\n",
       "      <td>NaN</td>\n",
       "      <td>NaN</td>\n",
       "      <td>NaN</td>\n",
       "      <td>NaN</td>\n",
       "      <td>NaN</td>\n",
       "      <td>NaN</td>\n",
       "      <td>NaN</td>\n",
       "      <td>NaN</td>\n",
       "    </tr>\n",
       "    <tr>\n",
       "      <th>3</th>\n",
       "      <td>2000</td>\n",
       "      <td>Madonna</td>\n",
       "      <td>Music</td>\n",
       "      <td>3:45</td>\n",
       "      <td>Rock</td>\n",
       "      <td>2000-08-12</td>\n",
       "      <td>2000-09-16</td>\n",
       "      <td>41</td>\n",
       "      <td>23.0</td>\n",
       "      <td>18.0</td>\n",
       "      <td>...</td>\n",
       "      <td>NaN</td>\n",
       "      <td>NaN</td>\n",
       "      <td>NaN</td>\n",
       "      <td>NaN</td>\n",
       "      <td>NaN</td>\n",
       "      <td>NaN</td>\n",
       "      <td>NaN</td>\n",
       "      <td>NaN</td>\n",
       "      <td>NaN</td>\n",
       "      <td>NaN</td>\n",
       "    </tr>\n",
       "    <tr>\n",
       "      <th>4</th>\n",
       "      <td>2000</td>\n",
       "      <td>Aguilera, Christina</td>\n",
       "      <td>Come On Over Baby (All I Want Is You)</td>\n",
       "      <td>3:38</td>\n",
       "      <td>Rock</td>\n",
       "      <td>2000-08-05</td>\n",
       "      <td>2000-10-14</td>\n",
       "      <td>57</td>\n",
       "      <td>47.0</td>\n",
       "      <td>45.0</td>\n",
       "      <td>...</td>\n",
       "      <td>NaN</td>\n",
       "      <td>NaN</td>\n",
       "      <td>NaN</td>\n",
       "      <td>NaN</td>\n",
       "      <td>NaN</td>\n",
       "      <td>NaN</td>\n",
       "      <td>NaN</td>\n",
       "      <td>NaN</td>\n",
       "      <td>NaN</td>\n",
       "      <td>NaN</td>\n",
       "    </tr>\n",
       "  </tbody>\n",
       "</table>\n",
       "<p>5 rows × 83 columns</p>\n",
       "</div>"
      ],
      "text/plain": [
       "   year      artist.inverted                                  track  time  \\\n",
       "0  2000      Destiny's Child               Independent Women Part I  3:38   \n",
       "1  2000              Santana                           Maria, Maria  4:18   \n",
       "2  2000        Savage Garden                     I Knew I Loved You  4:07   \n",
       "3  2000              Madonna                                  Music  3:45   \n",
       "4  2000  Aguilera, Christina  Come On Over Baby (All I Want Is You)  3:38   \n",
       "\n",
       "  genre date.entered date.peaked  x1st.week  x2nd.week  x3rd.week     ...      \\\n",
       "0  Rock   2000-09-23  2000-11-18         78       63.0       49.0     ...       \n",
       "1  Rock   2000-02-12  2000-04-08         15        8.0        6.0     ...       \n",
       "2  Rock   1999-10-23  2000-01-29         71       48.0       43.0     ...       \n",
       "3  Rock   2000-08-12  2000-09-16         41       23.0       18.0     ...       \n",
       "4  Rock   2000-08-05  2000-10-14         57       47.0       45.0     ...       \n",
       "\n",
       "   x67th.week  x68th.week  x69th.week  x70th.week  x71st.week  x72nd.week  \\\n",
       "0         NaN         NaN         NaN         NaN         NaN         NaN   \n",
       "1         NaN         NaN         NaN         NaN         NaN         NaN   \n",
       "2         NaN         NaN         NaN         NaN         NaN         NaN   \n",
       "3         NaN         NaN         NaN         NaN         NaN         NaN   \n",
       "4         NaN         NaN         NaN         NaN         NaN         NaN   \n",
       "\n",
       "   x73rd.week  x74th.week  x75th.week  x76th.week  \n",
       "0         NaN         NaN         NaN         NaN  \n",
       "1         NaN         NaN         NaN         NaN  \n",
       "2         NaN         NaN         NaN         NaN  \n",
       "3         NaN         NaN         NaN         NaN  \n",
       "4         NaN         NaN         NaN         NaN  \n",
       "\n",
       "[5 rows x 83 columns]"
      ]
     },
     "execution_count": 1,
     "metadata": {},
     "output_type": "execute_result"
    }
   ],
   "source": [
    "#Import useful modules\n",
    "import pandas as pd\n",
    "import numpy as np\n",
    "import scipy as sp\n",
    "import matplotlib.pyplot as plt\n",
    "import seaborn as sns\n",
    "from datetime import timedelta\n",
    "%matplotlib inline\n",
    "\n",
    "billboard = pd.read_csv('../project_data/billboard.csv')\n",
    "billboard.head()"
   ]
  },
  {
   "cell_type": "markdown",
   "metadata": {},
   "source": [
    "Using the head() method we can take a look at the first few rows of the data and get a sense of what they are like. Notice that due to the large size of the data frame it is not possible to show all columns by default. This, however can be changed in Panda's setting."
   ]
  },
  {
   "cell_type": "code",
   "execution_count": 3,
   "metadata": {
    "collapsed": false
   },
   "outputs": [
    {
     "name": "stdout",
     "output_type": "stream",
     "text": [
      "<class 'pandas.core.frame.DataFrame'>\n",
      "RangeIndex: 317 entries, 0 to 316\n",
      "Data columns (total 83 columns):\n",
      "year               317 non-null int64\n",
      "artist.inverted    317 non-null object\n",
      "track              317 non-null object\n",
      "time               317 non-null object\n",
      "genre              317 non-null object\n",
      "date.entered       317 non-null object\n",
      "date.peaked        317 non-null object\n",
      "x1st.week          317 non-null int64\n",
      "x2nd.week          312 non-null float64\n",
      "x3rd.week          307 non-null float64\n",
      "x4th.week          300 non-null float64\n",
      "x5th.week          292 non-null float64\n",
      "x6th.week          280 non-null float64\n",
      "x7th.week          269 non-null float64\n",
      "x8th.week          260 non-null float64\n",
      "x9th.week          253 non-null float64\n",
      "x10th.week         244 non-null float64\n",
      "x11th.week         236 non-null float64\n",
      "x12th.week         222 non-null float64\n",
      "x13th.week         210 non-null float64\n",
      "x14th.week         204 non-null float64\n",
      "x15th.week         197 non-null float64\n",
      "x16th.week         182 non-null float64\n",
      "x17th.week         177 non-null float64\n",
      "x18th.week         166 non-null float64\n",
      "x19th.week         156 non-null float64\n",
      "x20th.week         146 non-null float64\n",
      "x21st.week         65 non-null float64\n",
      "x22nd.week         55 non-null float64\n",
      "x23rd.week         48 non-null float64\n",
      "x24th.week         46 non-null float64\n",
      "x25th.week         38 non-null float64\n",
      "x26th.week         36 non-null float64\n",
      "x27th.week         29 non-null float64\n",
      "x28th.week         24 non-null float64\n",
      "x29th.week         20 non-null float64\n",
      "x30th.week         20 non-null float64\n",
      "x31st.week         19 non-null float64\n",
      "x32nd.week         18 non-null float64\n",
      "x33rd.week         12 non-null float64\n",
      "x34th.week         10 non-null float64\n",
      "x35th.week         9 non-null float64\n",
      "x36th.week         9 non-null float64\n",
      "x37th.week         9 non-null float64\n",
      "x38th.week         8 non-null float64\n",
      "x39th.week         8 non-null float64\n",
      "x40th.week         7 non-null float64\n",
      "x41st.week         7 non-null float64\n",
      "x42nd.week         6 non-null float64\n",
      "x43rd.week         6 non-null float64\n",
      "x44th.week         6 non-null float64\n",
      "x45th.week         5 non-null float64\n",
      "x46th.week         5 non-null float64\n",
      "x47th.week         5 non-null float64\n",
      "x48th.week         4 non-null float64\n",
      "x49th.week         4 non-null float64\n",
      "x50th.week         4 non-null float64\n",
      "x51st.week         4 non-null float64\n",
      "x52nd.week         4 non-null float64\n",
      "x53rd.week         4 non-null float64\n",
      "x54th.week         2 non-null float64\n",
      "x55th.week         2 non-null float64\n",
      "x56th.week         2 non-null float64\n",
      "x57th.week         2 non-null float64\n",
      "x58th.week         2 non-null float64\n",
      "x59th.week         2 non-null float64\n",
      "x60th.week         2 non-null float64\n",
      "x61st.week         2 non-null float64\n",
      "x62nd.week         2 non-null float64\n",
      "x63rd.week         2 non-null float64\n",
      "x64th.week         2 non-null float64\n",
      "x65th.week         1 non-null float64\n",
      "x66th.week         0 non-null float64\n",
      "x67th.week         0 non-null float64\n",
      "x68th.week         0 non-null float64\n",
      "x69th.week         0 non-null float64\n",
      "x70th.week         0 non-null float64\n",
      "x71st.week         0 non-null float64\n",
      "x72nd.week         0 non-null float64\n",
      "x73rd.week         0 non-null float64\n",
      "x74th.week         0 non-null float64\n",
      "x75th.week         0 non-null float64\n",
      "x76th.week         0 non-null float64\n",
      "dtypes: float64(75), int64(2), object(6)\n",
      "memory usage: 205.6+ KB\n"
     ]
    }
   ],
   "source": [
    "billboard.info()"
   ]
  },
  {
   "cell_type": "markdown",
   "metadata": {},
   "source": [
    "The info() method shows the name, type and number of non-null values within a column. This is a very convenient feature as it allows us to quickly gain many information regarding the data. Combining with the describe() method below one can easily get a sense of all the descriptive statistics and othre relevant information of each feature."
   ]
  },
  {
   "cell_type": "code",
   "execution_count": 3,
   "metadata": {
    "collapsed": false
   },
   "outputs": [
    {
     "name": "stdout",
     "output_type": "stream",
     "text": [
      "         year   x1st.week   x2nd.week   x3rd.week   x4th.week   x5th.week  \\\n",
      "count   317.0  317.000000  312.000000  307.000000  300.000000  292.000000   \n",
      "mean   2000.0   79.958991   71.173077   65.045603   59.763333   56.339041   \n",
      "std       0.0   14.686865   18.200443   20.752302   22.324619   23.780022   \n",
      "min    2000.0   15.000000    8.000000    6.000000    5.000000    2.000000   \n",
      "25%    2000.0   74.000000   63.000000   53.000000   44.750000   38.750000   \n",
      "50%    2000.0   81.000000   73.000000   66.000000   61.000000   57.000000   \n",
      "75%    2000.0   91.000000   84.000000   79.000000   76.000000   73.250000   \n",
      "max    2000.0  100.000000  100.000000  100.000000  100.000000  100.000000   \n",
      "\n",
      "        x6th.week   x7th.week   x8th.week   x9th.week  \n",
      "count  280.000000  269.000000  260.000000  253.000000  \n",
      "mean    52.360714   49.219331   47.119231   46.343874  \n",
      "std     24.473273   25.654279   26.370782   27.136419  \n",
      "min      1.000000    1.000000    1.000000    1.000000  \n",
      "25%     33.750000   30.000000   27.000000   26.000000  \n",
      "50%     51.500000   47.000000   45.500000   42.000000  \n",
      "75%     72.250000   67.000000   67.000000   67.000000  \n",
      "max     99.000000  100.000000   99.000000  100.000000  \n",
      "-------------------------------\n",
      "       x10th.week  x11th.week  x12th.week  x13th.week  x14th.week  x15th.week  \\\n",
      "count  244.000000  236.000000  222.000000  210.000000  204.000000  197.000000   \n",
      "mean    45.786885   45.474576   44.198198   44.352381   45.892157   47.898477   \n",
      "std     28.152357   29.060527   28.893100   29.481315   30.529936   31.542486   \n",
      "min      1.000000    1.000000    1.000000    1.000000    1.000000    1.000000   \n",
      "25%     24.750000   22.000000   20.250000   19.000000   20.000000   18.000000   \n",
      "50%     40.000000   42.500000   42.000000   42.500000   44.000000   46.000000   \n",
      "75%     69.000000   69.250000   67.750000   68.750000   72.500000   76.000000   \n",
      "max    100.000000  100.000000  100.000000  100.000000  100.000000  100.000000   \n",
      "\n",
      "       x16th.week  x17th.week  x18th.week  x19th.week  \n",
      "count  182.000000  177.000000  166.000000  156.000000  \n",
      "mean    48.241758   51.265537   52.108434   53.166667  \n",
      "std     31.899476   33.093233   33.194199   33.022540  \n",
      "min      1.000000    1.000000    1.000000    1.000000  \n",
      "25%     17.000000   19.000000   19.000000   20.750000  \n",
      "50%     47.000000   52.000000   56.500000   55.500000  \n",
      "75%     76.000000   85.000000   84.000000   85.000000  \n",
      "max    100.000000  100.000000  100.000000   99.000000  \n",
      "-------------------------------\n",
      "       x20th.week  x21st.week  x22nd.week  x23rd.week  x24th.week  x25th.week  \\\n",
      "count  146.000000   65.000000   55.000000    48.00000   46.000000   38.000000   \n",
      "mean    54.267123   26.184615   25.636364    23.81250   26.782609   26.131579   \n",
      "std     32.890475   20.232162   21.127798    18.23564   18.556716   18.737404   \n",
      "min      2.000000    3.000000    3.000000     3.00000    3.000000    2.000000   \n",
      "25%     22.250000   10.000000    9.000000    10.00000   12.000000   12.250000   \n",
      "50%     58.500000   24.000000   21.000000    20.50000   21.500000   22.500000   \n",
      "75%     87.000000   35.000000   36.500000    36.00000   40.500000   38.250000   \n",
      "max    100.000000   97.000000  100.000000    91.00000   91.000000   90.000000   \n",
      "\n",
      "       x26th.week  x27th.week  x28th.week  x29th.week  \n",
      "count    36.00000   29.000000   24.000000   20.000000  \n",
      "mean     28.00000   27.344828   25.000000   23.650000  \n",
      "std      19.14904   19.736254   16.229335   15.239405  \n",
      "min       1.00000    1.000000    2.000000    2.000000  \n",
      "25%      13.75000   12.000000   14.500000   13.750000  \n",
      "50%      26.00000   26.000000   23.500000   22.500000  \n",
      "75%      40.25000   38.000000   37.500000   36.000000  \n",
      "max      89.00000   86.000000   58.000000   49.000000  \n",
      "-------------------------------\n",
      "       x30th.week  x31st.week  x32nd.week  x33rd.week  x34th.week  x35th.week  \\\n",
      "count   20.000000   19.000000   18.000000   12.000000   10.000000    9.000000   \n",
      "mean    26.400000   28.736842   30.277778   23.166667   19.300000   16.888889   \n",
      "std     15.104548   16.002924   17.032169   17.071152   14.929836   12.333333   \n",
      "min      2.000000    3.000000    3.000000    2.000000    3.000000    4.000000   \n",
      "25%     16.000000   16.000000   14.500000    5.500000    5.750000    5.000000   \n",
      "50%     31.500000   34.000000   38.000000   24.000000   18.500000   14.000000   \n",
      "75%     38.000000   41.000000   44.000000   36.250000   28.250000   27.000000   \n",
      "max     45.000000   49.000000   47.000000   50.000000   49.000000   34.000000   \n",
      "\n",
      "       x36th.week  x37th.week  x38th.week  x39th.week  \n",
      "count    9.000000    9.000000    8.000000    8.000000  \n",
      "mean    18.555556   20.888889   19.375000   20.250000  \n",
      "std     13.893444   15.799086   12.693502   18.289341  \n",
      "min      5.000000    5.000000    9.000000    3.000000  \n",
      "25%      6.000000    9.000000    9.000000    8.750000  \n",
      "50%     16.000000   16.000000   16.000000   13.000000  \n",
      "75%     29.000000   36.000000   23.000000   25.500000  \n",
      "max     41.000000   48.000000   40.000000   50.000000  \n",
      "-------------------------------\n",
      "       x40th.week  x41st.week  x42nd.week  x43rd.week  x44th.week  x45th.week  \\\n",
      "count    7.000000    7.000000    6.000000    6.000000    6.000000    5.000000   \n",
      "mean    17.857143   18.571429   14.166667   17.666667   21.666667   17.800000   \n",
      "std     14.264508   15.306395    7.250287   10.366613   15.081998   11.691878   \n",
      "min      1.000000    1.000000    2.000000    3.000000    4.000000    4.000000   \n",
      "25%     13.000000   13.000000   11.500000   11.750000   10.750000    9.000000   \n",
      "50%     14.000000   14.000000   15.000000   18.000000   21.000000   17.000000   \n",
      "75%     18.500000   19.500000   19.250000   23.500000   29.000000   28.000000   \n",
      "max     47.000000   50.000000   22.000000   32.000000   45.000000   31.000000   \n",
      "\n",
      "       x46th.week  x47th.week  x48th.week  x49th.week  \n",
      "count    5.000000    5.000000    4.000000    4.000000  \n",
      "mean    20.200000   22.800000   20.000000   22.000000  \n",
      "std     14.184499   16.543881   14.628739   16.062378  \n",
      "min      5.000000    6.000000    8.000000    9.000000  \n",
      "25%      7.000000    7.000000    8.750000    9.000000  \n",
      "50%     21.000000   22.000000   16.500000   18.500000  \n",
      "75%     31.000000   38.000000   27.750000   31.500000  \n",
      "max     37.000000   41.000000   39.000000   42.000000  \n",
      "-------------------------------\n",
      "       x50th.week  x51st.week  x52nd.week  x53rd.week  x54th.week  x55th.week  \\\n",
      "count    4.000000    4.000000    4.000000    4.000000    2.000000    2.000000   \n",
      "mean    26.000000   29.250000   30.250000   33.250000   19.500000   21.500000   \n",
      "std     18.529256   18.997807   17.211914   17.095321    3.535534    0.707107   \n",
      "min     10.000000   12.000000   15.000000   17.000000   17.000000   21.000000   \n",
      "25%     11.500000   13.500000   15.750000   19.250000   18.250000   21.250000   \n",
      "50%     22.500000   28.000000   29.000000   33.500000   19.500000   21.500000   \n",
      "75%     37.000000   43.750000   43.500000   47.500000   20.750000   21.750000   \n",
      "max     49.000000   49.000000   48.000000   49.000000   22.000000   22.000000   \n",
      "\n",
      "       x56th.week  x57th.week  x58th.week  x59th.week  \n",
      "count    2.000000     2.00000    2.000000    2.000000  \n",
      "mean    25.500000    27.50000   31.500000   35.500000  \n",
      "std      0.707107     2.12132    0.707107    4.949747  \n",
      "min     25.000000    26.00000   31.000000   32.000000  \n",
      "25%     25.250000    26.75000   31.250000   33.750000  \n",
      "50%     25.500000    27.50000   31.500000   35.500000  \n",
      "75%     25.750000    28.25000   31.750000   37.250000  \n",
      "max     26.000000    29.00000   32.000000   39.000000  \n",
      "-------------------------------\n",
      "       x60th.week  x61st.week  x62nd.week  x63rd.week  x64th.week  x65th.week  \\\n",
      "count    2.000000    2.000000    2.000000    2.000000         2.0         1.0   \n",
      "mean    38.000000   42.500000   44.500000   47.500000        50.0        49.0   \n",
      "std      1.414214    0.707107    3.535534    3.535534         0.0         NaN   \n",
      "min     37.000000   42.000000   42.000000   45.000000        50.0        49.0   \n",
      "25%     37.500000   42.250000   43.250000   46.250000        50.0        49.0   \n",
      "50%     38.000000   42.500000   44.500000   47.500000        50.0        49.0   \n",
      "75%     38.500000   42.750000   45.750000   48.750000        50.0        49.0   \n",
      "max     39.000000   43.000000   47.000000   50.000000        50.0        49.0   \n",
      "\n",
      "       x66th.week  x67th.week  x68th.week  x69th.week  \n",
      "count         0.0         0.0         0.0         0.0  \n",
      "mean          NaN         NaN         NaN         NaN  \n",
      "std           NaN         NaN         NaN         NaN  \n",
      "min           NaN         NaN         NaN         NaN  \n",
      "25%           NaN         NaN         NaN         NaN  \n",
      "50%           NaN         NaN         NaN         NaN  \n",
      "75%           NaN         NaN         NaN         NaN  \n",
      "max           NaN         NaN         NaN         NaN  \n",
      "-------------------------------\n",
      "       x70th.week  x71st.week  x72nd.week  x73rd.week  x74th.week  x75th.week  \\\n",
      "count         0.0         0.0         0.0         0.0         0.0         0.0   \n",
      "mean          NaN         NaN         NaN         NaN         NaN         NaN   \n",
      "std           NaN         NaN         NaN         NaN         NaN         NaN   \n",
      "min           NaN         NaN         NaN         NaN         NaN         NaN   \n",
      "25%           NaN         NaN         NaN         NaN         NaN         NaN   \n",
      "50%           NaN         NaN         NaN         NaN         NaN         NaN   \n",
      "75%           NaN         NaN         NaN         NaN         NaN         NaN   \n",
      "max           NaN         NaN         NaN         NaN         NaN         NaN   \n",
      "\n",
      "       x76th.week  \n",
      "count         0.0  \n",
      "mean          NaN  \n",
      "std           NaN  \n",
      "min           NaN  \n",
      "25%           NaN  \n",
      "50%           NaN  \n",
      "75%           NaN  \n",
      "max           NaN  \n",
      "-------------------------------\n",
      "Empty DataFrame\n",
      "Columns: []\n",
      "Index: [count, mean, std, min, 25%, 50%, 75%, max]\n",
      "-------------------------------\n"
     ]
    }
   ],
   "source": [
    "'''\n",
    "Since data frame has too many columns Jupyter has trouble printing them all out at once. \n",
    "Therefore columns are divided into groups of 10 and 1 group is printed at a time. The key thing to\n",
    "look for here are any abnormal values in min, max wher they should be integers\n",
    "'''\n",
    "\n",
    "for i in np.linspace(0,80,9):\n",
    "    i = int(i)\n",
    "    print billboard.describe().iloc[:,i:i+10]\n",
    "    print'-------------------------------'"
   ]
  },
  {
   "cell_type": "markdown",
   "metadata": {},
   "source": [
    "It is always advised that some kind of sanity check to be done in the analysis to prevent nasty surprises later on. For example in this case we have discovered that there are 2 tracks in the board (not necessarily in the same time) that have the same name."
   ]
  },
  {
   "cell_type": "code",
   "execution_count": 4,
   "metadata": {
    "collapsed": false
   },
   "outputs": [
    {
     "data": {
      "text/plain": [
       "Where I Wanna Be              2\n",
       "If You Don't Wanna Love Me    1\n",
       "Just Be A Man About It        1\n",
       "With Arms Wide Open           1\n",
       "Girls Dem Sugar               1\n",
       "Name: track, dtype: int64"
      ]
     },
     "execution_count": 4,
     "metadata": {},
     "output_type": "execute_result"
    }
   ],
   "source": [
    "billboard.track.value_counts()[:5] #To find out whether track names are unique"
   ]
  },
  {
   "cell_type": "code",
   "execution_count": 5,
   "metadata": {
    "collapsed": false
   },
   "outputs": [
    {
     "data": {
      "text/html": [
       "<div>\n",
       "<table border=\"1\" class=\"dataframe\">\n",
       "  <thead>\n",
       "    <tr style=\"text-align: right;\">\n",
       "      <th></th>\n",
       "      <th>year</th>\n",
       "      <th>artist.inverted</th>\n",
       "      <th>track</th>\n",
       "      <th>time</th>\n",
       "      <th>genre</th>\n",
       "      <th>date.entered</th>\n",
       "      <th>date.peaked</th>\n",
       "      <th>x1st.week</th>\n",
       "      <th>x2nd.week</th>\n",
       "      <th>x3rd.week</th>\n",
       "      <th>...</th>\n",
       "      <th>x67th.week</th>\n",
       "      <th>x68th.week</th>\n",
       "      <th>x69th.week</th>\n",
       "      <th>x70th.week</th>\n",
       "      <th>x71st.week</th>\n",
       "      <th>x72nd.week</th>\n",
       "      <th>x73rd.week</th>\n",
       "      <th>x74th.week</th>\n",
       "      <th>x75th.week</th>\n",
       "      <th>x76th.week</th>\n",
       "    </tr>\n",
       "  </thead>\n",
       "  <tbody>\n",
       "    <tr>\n",
       "      <th>118</th>\n",
       "      <td>2000</td>\n",
       "      <td>Jones, Donell</td>\n",
       "      <td>Where I Wanna Be</td>\n",
       "      <td>6:22</td>\n",
       "      <td>Rock</td>\n",
       "      <td>2000-04-22</td>\n",
       "      <td>2000-07-08</td>\n",
       "      <td>81</td>\n",
       "      <td>71.0</td>\n",
       "      <td>65.0</td>\n",
       "      <td>...</td>\n",
       "      <td>NaN</td>\n",
       "      <td>NaN</td>\n",
       "      <td>NaN</td>\n",
       "      <td>NaN</td>\n",
       "      <td>NaN</td>\n",
       "      <td>NaN</td>\n",
       "      <td>NaN</td>\n",
       "      <td>NaN</td>\n",
       "      <td>NaN</td>\n",
       "      <td>NaN</td>\n",
       "    </tr>\n",
       "    <tr>\n",
       "      <th>305</th>\n",
       "      <td>2000</td>\n",
       "      <td>Sheist, Shade</td>\n",
       "      <td>Where I Wanna Be</td>\n",
       "      <td>4:16</td>\n",
       "      <td>Rap</td>\n",
       "      <td>2000-11-11</td>\n",
       "      <td>2000-11-18</td>\n",
       "      <td>96</td>\n",
       "      <td>95.0</td>\n",
       "      <td>99.0</td>\n",
       "      <td>...</td>\n",
       "      <td>NaN</td>\n",
       "      <td>NaN</td>\n",
       "      <td>NaN</td>\n",
       "      <td>NaN</td>\n",
       "      <td>NaN</td>\n",
       "      <td>NaN</td>\n",
       "      <td>NaN</td>\n",
       "      <td>NaN</td>\n",
       "      <td>NaN</td>\n",
       "      <td>NaN</td>\n",
       "    </tr>\n",
       "  </tbody>\n",
       "</table>\n",
       "<p>2 rows × 83 columns</p>\n",
       "</div>"
      ],
      "text/plain": [
       "     year artist.inverted             track  time genre date.entered  \\\n",
       "118  2000   Jones, Donell  Where I Wanna Be  6:22  Rock   2000-04-22   \n",
       "305  2000   Sheist, Shade  Where I Wanna Be  4:16   Rap   2000-11-11   \n",
       "\n",
       "    date.peaked  x1st.week  x2nd.week  x3rd.week     ...      x67th.week  \\\n",
       "118  2000-07-08         81       71.0       65.0     ...             NaN   \n",
       "305  2000-11-18         96       95.0       99.0     ...             NaN   \n",
       "\n",
       "     x68th.week  x69th.week  x70th.week  x71st.week  x72nd.week  x73rd.week  \\\n",
       "118         NaN         NaN         NaN         NaN         NaN         NaN   \n",
       "305         NaN         NaN         NaN         NaN         NaN         NaN   \n",
       "\n",
       "     x74th.week  x75th.week  x76th.week  \n",
       "118         NaN         NaN         NaN  \n",
       "305         NaN         NaN         NaN  \n",
       "\n",
       "[2 rows x 83 columns]"
      ]
     },
     "execution_count": 5,
     "metadata": {},
     "output_type": "execute_result"
    }
   ],
   "source": [
    "billboard[billboard['track']=='Where I Wanna Be']"
   ]
  },
  {
   "cell_type": "markdown",
   "metadata": {},
   "source": [
    "Another very useful methods to use in Pandas is value_counts(). This is especially useful when a data scientist tries to summarise data and plots a histogram to check the underlying distribution"
   ]
  },
  {
   "cell_type": "code",
   "execution_count": 6,
   "metadata": {
    "collapsed": false
   },
   "outputs": [
    {
     "data": {
      "text/plain": [
       "Rock           137\n",
       "Country         74\n",
       "Rap             58\n",
       "R&B             23\n",
       "Pop              9\n",
       "Latin            9\n",
       "Electronica      4\n",
       "Gospel           1\n",
       "Jazz             1\n",
       "Reggae           1\n",
       "Name: genre, dtype: int64"
      ]
     },
     "execution_count": 6,
     "metadata": {},
     "output_type": "execute_result"
    }
   ],
   "source": [
    "billboard.genre.value_counts() # Count genre and we can see Rock dominated the board"
   ]
  },
  {
   "cell_type": "code",
   "execution_count": 7,
   "metadata": {
    "collapsed": false
   },
   "outputs": [
    {
     "data": {
      "text/plain": [
       "228"
      ]
     },
     "execution_count": 7,
     "metadata": {},
     "output_type": "execute_result"
    }
   ],
   "source": [
    "len(billboard['artist.inverted'].value_counts()) # Total of 228 unique artistis"
   ]
  },
  {
   "cell_type": "code",
   "execution_count": 5,
   "metadata": {
    "collapsed": false
   },
   "outputs": [
    {
     "data": {
      "text/plain": [
       "Jay-Z                  5\n",
       "Houston, Whitney       4\n",
       "Dixie Chicks, The      4\n",
       "DMX                    3\n",
       "Aguilera, Christina    3\n",
       "Name: artist.inverted, dtype: int64"
      ]
     },
     "execution_count": 5,
     "metadata": {},
     "output_type": "execute_result"
    }
   ],
   "source": [
    "billboard['artist.inverted'].value_counts()[:5] # Jay-Z appeared the most"
   ]
  },
  {
   "cell_type": "code",
   "execution_count": 9,
   "metadata": {
    "collapsed": false
   },
   "outputs": [
    {
     "data": {
      "text/html": [
       "<div>\n",
       "<table border=\"1\" class=\"dataframe\">\n",
       "  <thead>\n",
       "    <tr style=\"text-align: right;\">\n",
       "      <th></th>\n",
       "      <th>year</th>\n",
       "      <th>artist.inverted</th>\n",
       "      <th>track</th>\n",
       "      <th>time</th>\n",
       "      <th>genre</th>\n",
       "      <th>date.entered</th>\n",
       "      <th>date.peaked</th>\n",
       "      <th>x1st.week</th>\n",
       "      <th>x2nd.week</th>\n",
       "      <th>x3rd.week</th>\n",
       "      <th>...</th>\n",
       "      <th>x67th.week</th>\n",
       "      <th>x68th.week</th>\n",
       "      <th>x69th.week</th>\n",
       "      <th>x70th.week</th>\n",
       "      <th>x71st.week</th>\n",
       "      <th>x72nd.week</th>\n",
       "      <th>x73rd.week</th>\n",
       "      <th>x74th.week</th>\n",
       "      <th>x75th.week</th>\n",
       "      <th>x76th.week</th>\n",
       "    </tr>\n",
       "  </thead>\n",
       "  <tbody>\n",
       "    <tr>\n",
       "      <th>46</th>\n",
       "      <td>2000</td>\n",
       "      <td>Creed</td>\n",
       "      <td>Higher</td>\n",
       "      <td>5:16</td>\n",
       "      <td>Rock</td>\n",
       "      <td>1999-09-11</td>\n",
       "      <td>2000-07-22</td>\n",
       "      <td>81</td>\n",
       "      <td>77.0</td>\n",
       "      <td>73.0</td>\n",
       "      <td>...</td>\n",
       "      <td>NaN</td>\n",
       "      <td>NaN</td>\n",
       "      <td>NaN</td>\n",
       "      <td>NaN</td>\n",
       "      <td>NaN</td>\n",
       "      <td>NaN</td>\n",
       "      <td>NaN</td>\n",
       "      <td>NaN</td>\n",
       "      <td>NaN</td>\n",
       "      <td>NaN</td>\n",
       "    </tr>\n",
       "  </tbody>\n",
       "</table>\n",
       "<p>1 rows × 83 columns</p>\n",
       "</div>"
      ],
      "text/plain": [
       "    year artist.inverted   track  time genre date.entered date.peaked  \\\n",
       "46  2000           Creed  Higher  5:16  Rock   1999-09-11  2000-07-22   \n",
       "\n",
       "    x1st.week  x2nd.week  x3rd.week     ...      x67th.week  x68th.week  \\\n",
       "46         81       77.0       73.0     ...             NaN         NaN   \n",
       "\n",
       "    x69th.week  x70th.week  x71st.week  x72nd.week  x73rd.week  x74th.week  \\\n",
       "46         NaN         NaN         NaN         NaN         NaN         NaN   \n",
       "\n",
       "    x75th.week  x76th.week  \n",
       "46         NaN         NaN  \n",
       "\n",
       "[1 rows x 83 columns]"
      ]
     },
     "execution_count": 9,
     "metadata": {},
     "output_type": "execute_result"
    }
   ],
   "source": [
    "billboard[billboard['x65th.week'].notnull()] # The track that stayed the longest"
   ]
  },
  {
   "cell_type": "markdown",
   "metadata": {},
   "source": [
    "Some tracks managed to come back after leaving the board which could make the analysis more tricky. To confirm this is relevant to our data a test was performed."
   ]
  },
  {
   "cell_type": "code",
   "execution_count": 10,
   "metadata": {
    "collapsed": false
   },
   "outputs": [
    {
     "name": "stdout",
     "output_type": "stream",
     "text": [
      "[True, True, True, True, True, True, True, True, True, False, True, True, True, True, True, True, True, True, True, True, True, True, True, True, True, True, True, True, True, True, True, True, True, True, True, True, True, True, True, True, True, True, True, True, True, True, False, True, True, True, True, True, True, True, True, True, True, True, True, True, True, True, True, True, True, True, True, True, True, True, True, True, True, True, True, True, True, True, True, True, True, True, True, True, True, True, True, True, True, True, True, True, True, True, True, True, True, True, False, True, True, True, True, True, True, True, True, True, True, True, True, True, True, True, True, True, True, True, True, True, True, True, True, True, True, True, True, True, True, True, True, True, True, True, True, True, True, True, True, True, True, True, True, True, True, True, True, True, True, True, True, True, True, True, True, True, True, False, True, True, True, True, True, True, True, True, True, True, True, True, True, True, True, True, True, True, True, True, True, True, False, True, True, False, True, True, True, True, True, True, True, True, True, True, True, True, True, True, True, True, True, True, True, False, True, True, True, True, True, True, True, True, True, True, True, True, True, True, True, True, True, True, True, True, True, True, True, True, True, True, True, True, True, True, True, True, True, True, True, True, True, True, True, True, True, True, True, True, True, True, True, True, True, True, True, True, True, True, False, True, True, True, True, True, True, True, True, True, True, True, True, True, True, True, True, True, True, True, True, True, True, True, True, True, True, True, True, True, True, True, True, True, True, True, True, True, True, True, True, True, False, False, True, True, True, True, True, True, True, True, True, True, True, True, True, True, True]\n",
      "x1st.week     81.0\n",
      "x2nd.week     54.0\n",
      "x3rd.week     44.0\n",
      "x4th.week     39.0\n",
      "x5th.week     38.0\n",
      "x6th.week     33.0\n",
      "x7th.week     29.0\n",
      "x8th.week     29.0\n",
      "x9th.week     32.0\n",
      "x10th.week    27.0\n",
      "x11th.week    26.0\n",
      "x12th.week    24.0\n",
      "x13th.week    27.0\n",
      "x14th.week    32.0\n",
      "x15th.week    33.0\n",
      "x16th.week    35.0\n",
      "x17th.week    35.0\n",
      "x18th.week    40.0\n",
      "x19th.week    43.0\n",
      "x20th.week    50.0\n",
      "x21st.week     NaN\n",
      "x22nd.week     NaN\n",
      "x23rd.week     NaN\n",
      "x24th.week     NaN\n",
      "x25th.week     NaN\n",
      "x26th.week     NaN\n",
      "x27th.week     NaN\n",
      "x28th.week     NaN\n",
      "x29th.week     NaN\n",
      "x30th.week    45.0\n",
      "              ... \n",
      "x48th.week     8.0\n",
      "x49th.week     9.0\n",
      "x50th.week    10.0\n",
      "x51st.week    12.0\n",
      "x52nd.week    15.0\n",
      "x53rd.week    20.0\n",
      "x54th.week    22.0\n",
      "x55th.week    22.0\n",
      "x56th.week    25.0\n",
      "x57th.week    26.0\n",
      "x58th.week    31.0\n",
      "x59th.week    32.0\n",
      "x60th.week    37.0\n",
      "x61st.week    42.0\n",
      "x62nd.week    42.0\n",
      "x63rd.week    45.0\n",
      "x64th.week    50.0\n",
      "x65th.week     NaN\n",
      "x66th.week     NaN\n",
      "x67th.week     NaN\n",
      "x68th.week     NaN\n",
      "x69th.week     NaN\n",
      "x70th.week     NaN\n",
      "x71st.week     NaN\n",
      "x72nd.week     NaN\n",
      "x73rd.week     NaN\n",
      "x74th.week     NaN\n",
      "x75th.week     NaN\n",
      "x76th.week     NaN\n",
      "nncount       55.0\n",
      "Name: 9, dtype: float64\n"
     ]
    }
   ],
   "source": [
    "# This test is to check whether there are songs that appear on the board in different periods \n",
    "# i.e dropped out and come back again\n",
    "weeks = billboard.iloc[:,7:]\n",
    "weeks['nncount'] = weeks.notnull().sum(axis=1)\n",
    "continuous_lst = []\n",
    "for i in range(weeks.shape[0]):\n",
    "    ind = weeks.nncount[i]\n",
    "    continuous_lst.append(all(weeks.iloc[i,:ind-1].notnull())) #end of list is ind-1 because we have introduced column 'nncount'\n",
    "print continuous_lst\n",
    "print weeks.iloc[9]\n",
    "# The final 2 prints are there to check the results which confirms that some tracks do not \n",
    "# appear in the board continuously"
   ]
  },
  {
   "cell_type": "markdown",
   "metadata": {
    "focus": false,
    "id": "94514384-cf79-4e7a-a09b-02cddc91e77c"
   },
   "source": [
    "### Data Summary"
   ]
  },
  {
   "cell_type": "markdown",
   "metadata": {
    "collapsed": true,
    "focus": false,
    "id": "33a9e3f0-a29d-4b02-90bd-528bdb44fb78"
   },
   "source": [
    "There are 317 rows and 83 columns in the data. Out of them there are 6 columns with a data type 'object' (Which would very likely be strings).  It is important to note that the date columns namely 'date entered' and 'date peaked' can possibly be transformed to datetime values for further analysis. The 'time' column as also be transformed into integer to investigate the relationship between the length of a track and its popularity. It is also worthwhile to note that there are two tracks both named \"Where I Wanna Be\" and it is important not to mix them up. There are a total of 10 genres of music and Rock is the most popular. There are 228 unique artist/groups involved in the dataset. Jay-z has the most track entries of 5. From week 66 onwards all the columns are empty which means no tracks has stayed in the chart for more than 65 weeks. Therefore the extra columns should be removed. The track that stayed the longest is Higher performed by Creed. Finally it is very easy to be tricked by the results returned by .info() operation. This is because it is shown that the number of non-null values decreases with the week which is very normal. However under a more detailed investigation it appears that those numbers were not composed of the same group of tracks everytime. For example track 'a', 'b', 'c' are both in the board at week 1 (count = 3). Track 'a' dropped out in week 2 (count =2). In the third week track a comes back but track 'b' and 'c' drops out (count =1). This behaviour can potentially complicates the analysis and catch out the less careful analyst."
   ]
  },
  {
   "cell_type": "markdown",
   "metadata": {
    "focus": false,
    "id": "888b6223-3bb4-4d91-b753-4867a3a1b281"
   },
   "source": [
    "### Clean the data"
   ]
  },
  {
   "cell_type": "markdown",
   "metadata": {
    "focus": false,
    "id": "8a273328-6d9f-4dfc-88f8-a0c18e4d7f90"
   },
   "source": [
    "Data cleaning was performed in this section. This includes getting rid of redundant columns and renaming some others. The date related data are converted into datetime format. A token was also created for the artist,song combination to make sure that there is a unique indentifier for each entry (as we have discovered that artists names and track names overlaps). More importantly a transformation of data would be performed to eliminate the large number of columns. To trade off with that there will be multiple rows for the same track for each week. Then further cleaning was carried out to arrive at the final data frame."
   ]
  },
  {
   "cell_type": "code",
   "execution_count": 12,
   "metadata": {
    "collapsed": false
   },
   "outputs": [],
   "source": [
    "billboard = billboard.iloc[:,:72] #get rid of the empty columns"
   ]
  },
  {
   "cell_type": "code",
   "execution_count": 13,
   "metadata": {
    "collapsed": false
   },
   "outputs": [],
   "source": [
    "billboard = billboard.rename(columns={'artist.inverted':'artist', 'date.entered':'date_entered','date.peaked':'date_peaked'})"
   ]
  },
  {
   "cell_type": "code",
   "execution_count": 14,
   "metadata": {
    "collapsed": false
   },
   "outputs": [],
   "source": [
    "# Change time to seconds\n",
    "def time_con(str):\n",
    "    lst = str.split(':')\n",
    "    secs = int(lst[0])*60 + int(lst[1])\n",
    "    return secsshorten any strings that may be too long, check for missing values (and replace them if it makes sense to do so)\n",
    "billboard['time_in_seconds'] = billboard.time.apply(time_con)"
   ]
  },
  {
   "cell_type": "code",
   "execution_count": 15,
   "metadata": {
    "collapsed": false
   },
   "outputs": [
    {
     "data": {
      "text/html": [
       "<div>\n",
       "<table border=\"1\" class=\"dataframe\">\n",
       "  <thead>\n",
       "    <tr style=\"text-align: right;\">\n",
       "      <th></th>\n",
       "      <th>year</th>\n",
       "      <th>artist</th>\n",
       "      <th>track</th>\n",
       "      <th>time</th>\n",
       "      <th>genre</th>\n",
       "      <th>date_entered</th>\n",
       "      <th>date_peaked</th>\n",
       "      <th>x1st.week</th>\n",
       "      <th>x2nd.week</th>\n",
       "      <th>x3rd.week</th>\n",
       "      <th>...</th>\n",
       "      <th>x59th.week</th>\n",
       "      <th>x60th.week</th>\n",
       "      <th>x61st.week</th>\n",
       "      <th>x62nd.week</th>\n",
       "      <th>x63rd.week</th>\n",
       "      <th>x64th.week</th>\n",
       "      <th>x65th.week</th>\n",
       "      <th>time_in_seconds</th>\n",
       "      <th>track_title_length</th>\n",
       "      <th>artist_track</th>\n",
       "    </tr>\n",
       "  </thead>\n",
       "  <tbody>\n",
       "    <tr>\n",
       "      <th>0</th>\n",
       "      <td>2000</td>\n",
       "      <td>Destiny's Child</td>\n",
       "      <td>Independent Women Part I</td>\n",
       "      <td>3:38</td>\n",
       "      <td>Rock</td>\n",
       "      <td>2000-09-23</td>\n",
       "      <td>2000-11-18</td>\n",
       "      <td>78</td>\n",
       "      <td>63.0</td>\n",
       "      <td>49.0</td>\n",
       "      <td>...</td>\n",
       "      <td>NaN</td>\n",
       "      <td>NaN</td>\n",
       "      <td>NaN</td>\n",
       "      <td>NaN</td>\n",
       "      <td>NaN</td>\n",
       "      <td>NaN</td>\n",
       "      <td>NaN</td>\n",
       "      <td>218</td>\n",
       "      <td>4</td>\n",
       "      <td>Destiny's ChildIndependent Women Part I</td>\n",
       "    </tr>\n",
       "    <tr>\n",
       "      <th>1</th>\n",
       "      <td>2000</td>\n",
       "      <td>Santana</td>\n",
       "      <td>Maria, Maria</td>\n",
       "      <td>4:18</td>\n",
       "      <td>Rock</td>\n",
       "      <td>2000-02-12</td>\n",
       "      <td>2000-04-08</td>\n",
       "      <td>15</td>\n",
       "      <td>8.0</td>\n",
       "      <td>6.0</td>\n",
       "      <td>...</td>\n",
       "      <td>NaN</td>\n",
       "      <td>NaN</td>\n",
       "      <td>NaN</td>\n",
       "      <td>NaN</td>\n",
       "      <td>NaN</td>\n",
       "      <td>NaN</td>\n",
       "      <td>NaN</td>\n",
       "      <td>258</td>\n",
       "      <td>2</td>\n",
       "      <td>SantanaMaria, Maria</td>\n",
       "    </tr>\n",
       "    <tr>\n",
       "      <th>2</th>\n",
       "      <td>2000</td>\n",
       "      <td>Savage Garden</td>\n",
       "      <td>I Knew I Loved You</td>\n",
       "      <td>4:07</td>\n",
       "      <td>Rock</td>\n",
       "      <td>1999-10-23</td>\n",
       "      <td>2000-01-29</td>\n",
       "      <td>71</td>\n",
       "      <td>48.0</td>\n",
       "      <td>43.0</td>\n",
       "      <td>...</td>\n",
       "      <td>NaN</td>\n",
       "      <td>NaN</td>\n",
       "      <td>NaN</td>\n",
       "      <td>NaN</td>\n",
       "      <td>NaN</td>\n",
       "      <td>NaN</td>\n",
       "      <td>NaN</td>\n",
       "      <td>247</td>\n",
       "      <td>5</td>\n",
       "      <td>Savage GardenI Knew I Loved You</td>\n",
       "    </tr>\n",
       "    <tr>\n",
       "      <th>3</th>\n",
       "      <td>2000</td>\n",
       "      <td>Madonna</td>\n",
       "      <td>Music</td>\n",
       "      <td>3:45</td>\n",
       "      <td>Rock</td>\n",
       "      <td>2000-08-12</td>\n",
       "      <td>2000-09-16</td>\n",
       "      <td>41</td>\n",
       "      <td>23.0</td>\n",
       "      <td>18.0</td>\n",
       "      <td>...</td>\n",
       "      <td>NaN</td>\n",
       "      <td>NaN</td>\n",
       "      <td>NaN</td>\n",
       "      <td>NaN</td>\n",
       "      <td>NaN</td>\n",
       "      <td>NaN</td>\n",
       "      <td>NaN</td>\n",
       "      <td>225</td>\n",
       "      <td>1</td>\n",
       "      <td>MadonnaMusic</td>\n",
       "    </tr>\n",
       "    <tr>\n",
       "      <th>4</th>\n",
       "      <td>2000</td>\n",
       "      <td>Aguilera, Christina</td>\n",
       "      <td>Come On Over Baby (All I Want Is You)</td>\n",
       "      <td>3:38</td>\n",
       "      <td>Rock</td>\n",
       "      <td>2000-08-05</td>\n",
       "      <td>2000-10-14</td>\n",
       "      <td>57</td>\n",
       "      <td>47.0</td>\n",
       "      <td>45.0</td>\n",
       "      <td>...</td>\n",
       "      <td>NaN</td>\n",
       "      <td>NaN</td>\n",
       "      <td>NaN</td>\n",
       "      <td>NaN</td>\n",
       "      <td>NaN</td>\n",
       "      <td>NaN</td>\n",
       "      <td>NaN</td>\n",
       "      <td>218</td>\n",
       "      <td>9</td>\n",
       "      <td>Aguilera, ChristinaCome On Over Baby (All I Wa...</td>\n",
       "    </tr>\n",
       "  </tbody>\n",
       "</table>\n",
       "<p>5 rows × 75 columns</p>\n",
       "</div>"
      ],
      "text/plain": [
       "   year               artist                                  track  time  \\\n",
       "0  2000      Destiny's Child               Independent Women Part I  3:38   \n",
       "1  2000              Santana                           Maria, Maria  4:18   \n",
       "2  2000        Savage Garden                     I Knew I Loved You  4:07   \n",
       "3  2000              Madonna                                  Music  3:45   \n",
       "4  2000  Aguilera, Christina  Come On Over Baby (All I Want Is You)  3:38   \n",
       "\n",
       "  genre date_entered date_peaked  x1st.week  x2nd.week  x3rd.week  \\\n",
       "0  Rock   2000-09-23  2000-11-18         78       63.0       49.0   \n",
       "1  Rock   2000-02-12  2000-04-08         15        8.0        6.0   \n",
       "2  Rock   1999-10-23  2000-01-29         71       48.0       43.0   \n",
       "3  Rock   2000-08-12  2000-09-16         41       23.0       18.0   \n",
       "4  Rock   2000-08-05  2000-10-14         57       47.0       45.0   \n",
       "\n",
       "                         ...                          x59th.week  x60th.week  \\\n",
       "0                        ...                                 NaN         NaN   \n",
       "1                        ...                                 NaN         NaN   \n",
       "2                        ...                                 NaN         NaN   \n",
       "3                        ...                                 NaN         NaN   \n",
       "4                        ...                                 NaN         NaN   \n",
       "\n",
       "   x61st.week  x62nd.week  x63rd.week  x64th.week  x65th.week  \\\n",
       "0         NaN         NaN         NaN         NaN         NaN   \n",
       "1         NaN         NaN         NaN         NaN         NaN   \n",
       "2         NaN         NaN         NaN         NaN         NaN   \n",
       "3         NaN         NaN         NaN         NaN         NaN   \n",
       "4         NaN         NaN         NaN         NaN         NaN   \n",
       "\n",
       "   time_in_seconds  track_title_length  \\\n",
       "0              218                   4   \n",
       "1              258                   2   \n",
       "2              247                   5   \n",
       "3              225                   1   \n",
       "4              218                   9   \n",
       "\n",
       "                                        artist_track  \n",
       "0            Destiny's ChildIndependent Women Part I  \n",
       "1                                SantanaMaria, Maria  \n",
       "2                    Savage GardenI Knew I Loved You  \n",
       "3                                       MadonnaMusic  \n",
       "4  Aguilera, ChristinaCome On Over Baby (All I Wa...  \n",
       "\n",
       "[5 rows x 75 columns]"
      ]
     },
     "execution_count": 15,
     "metadata": {},
     "output_type": "execute_result"
    }
   ],
   "source": [
    "billboard['track_title_length'] = billboard['track'].apply(lambda x:len(x.split()))\n",
    "billboard['artist_track'] = billboard['artist'] + billboard['track'] # To make sure there is a unique title for every track\n",
    "billboard.head()"
   ]
  },
  {
   "cell_type": "code",
   "execution_count": 16,
   "metadata": {
    "collapsed": false
   },
   "outputs": [],
   "source": [
    "# Convert dates to datetime formats\n",
    "billboard['datetime_entered'] = pd.to_datetime(billboard['date_entered'])\n",
    "billboard['datetime_peaked'] = pd.to_datetime(billboard['date_peaked'])\n",
    "# Since we have the datetime columns, it is possible to drop the original string-date columns\n",
    "billboard.drop(['date_entered','date_peaked'], axis =1, inplace = True)\n",
    "# The time column would not be very useful either as we have time_in_seconds\n",
    "billboard.drop(['time'], axis =1, inplace = True)"
   ]
  },
  {
   "cell_type": "code",
   "execution_count": 17,
   "metadata": {
    "collapsed": true
   },
   "outputs": [],
   "source": [
    "billboard['month_entered'] = billboard['datetime_entered'].apply(lambda x:x.month)"
   ]
  },
  {
   "cell_type": "code",
   "execution_count": 18,
   "metadata": {
    "collapsed": false
   },
   "outputs": [
    {
     "data": {
      "text/html": [
       "<div>\n",
       "<table border=\"1\" class=\"dataframe\">\n",
       "  <thead>\n",
       "    <tr style=\"text-align: right;\">\n",
       "      <th></th>\n",
       "      <th>year</th>\n",
       "      <th>artist</th>\n",
       "      <th>track</th>\n",
       "      <th>genre</th>\n",
       "      <th>1</th>\n",
       "      <th>2</th>\n",
       "      <th>3</th>\n",
       "      <th>4</th>\n",
       "      <th>5</th>\n",
       "      <th>6</th>\n",
       "      <th>...</th>\n",
       "      <th>62</th>\n",
       "      <th>63</th>\n",
       "      <th>64</th>\n",
       "      <th>65</th>\n",
       "      <th>time_in_seconds</th>\n",
       "      <th>track_title_length</th>\n",
       "      <th>artist_track</th>\n",
       "      <th>datetime_entered</th>\n",
       "      <th>datetime_peaked</th>\n",
       "      <th>month_entered</th>\n",
       "    </tr>\n",
       "  </thead>\n",
       "  <tbody>\n",
       "    <tr>\n",
       "      <th>0</th>\n",
       "      <td>2000</td>\n",
       "      <td>Destiny's Child</td>\n",
       "      <td>Independent Women Part I</td>\n",
       "      <td>Rock</td>\n",
       "      <td>78</td>\n",
       "      <td>63.0</td>\n",
       "      <td>49.0</td>\n",
       "      <td>33.0</td>\n",
       "      <td>23.0</td>\n",
       "      <td>15.0</td>\n",
       "      <td>...</td>\n",
       "      <td>NaN</td>\n",
       "      <td>NaN</td>\n",
       "      <td>NaN</td>\n",
       "      <td>NaN</td>\n",
       "      <td>218</td>\n",
       "      <td>4</td>\n",
       "      <td>Destiny's ChildIndependent Women Part I</td>\n",
       "      <td>2000-09-23</td>\n",
       "      <td>2000-11-18</td>\n",
       "      <td>9</td>\n",
       "    </tr>\n",
       "    <tr>\n",
       "      <th>1</th>\n",
       "      <td>2000</td>\n",
       "      <td>Santana</td>\n",
       "      <td>Maria, Maria</td>\n",
       "      <td>Rock</td>\n",
       "      <td>15</td>\n",
       "      <td>8.0</td>\n",
       "      <td>6.0</td>\n",
       "      <td>5.0</td>\n",
       "      <td>2.0</td>\n",
       "      <td>3.0</td>\n",
       "      <td>...</td>\n",
       "      <td>NaN</td>\n",
       "      <td>NaN</td>\n",
       "      <td>NaN</td>\n",
       "      <td>NaN</td>\n",
       "      <td>258</td>\n",
       "      <td>2</td>\n",
       "      <td>SantanaMaria, Maria</td>\n",
       "      <td>2000-02-12</td>\n",
       "      <td>2000-04-08</td>\n",
       "      <td>2</td>\n",
       "    </tr>\n",
       "    <tr>\n",
       "      <th>2</th>\n",
       "      <td>2000</td>\n",
       "      <td>Savage Garden</td>\n",
       "      <td>I Knew I Loved You</td>\n",
       "      <td>Rock</td>\n",
       "      <td>71</td>\n",
       "      <td>48.0</td>\n",
       "      <td>43.0</td>\n",
       "      <td>31.0</td>\n",
       "      <td>20.0</td>\n",
       "      <td>13.0</td>\n",
       "      <td>...</td>\n",
       "      <td>NaN</td>\n",
       "      <td>NaN</td>\n",
       "      <td>NaN</td>\n",
       "      <td>NaN</td>\n",
       "      <td>247</td>\n",
       "      <td>5</td>\n",
       "      <td>Savage GardenI Knew I Loved You</td>\n",
       "      <td>1999-10-23</td>\n",
       "      <td>2000-01-29</td>\n",
       "      <td>10</td>\n",
       "    </tr>\n",
       "    <tr>\n",
       "      <th>3</th>\n",
       "      <td>2000</td>\n",
       "      <td>Madonna</td>\n",
       "      <td>Music</td>\n",
       "      <td>Rock</td>\n",
       "      <td>41</td>\n",
       "      <td>23.0</td>\n",
       "      <td>18.0</td>\n",
       "      <td>14.0</td>\n",
       "      <td>2.0</td>\n",
       "      <td>1.0</td>\n",
       "      <td>...</td>\n",
       "      <td>NaN</td>\n",
       "      <td>NaN</td>\n",
       "      <td>NaN</td>\n",
       "      <td>NaN</td>\n",
       "      <td>225</td>\n",
       "      <td>1</td>\n",
       "      <td>MadonnaMusic</td>\n",
       "      <td>2000-08-12</td>\n",
       "      <td>2000-09-16</td>\n",
       "      <td>8</td>\n",
       "    </tr>\n",
       "    <tr>\n",
       "      <th>4</th>\n",
       "      <td>2000</td>\n",
       "      <td>Aguilera, Christina</td>\n",
       "      <td>Come On Over Baby (All I Want Is You)</td>\n",
       "      <td>Rock</td>\n",
       "      <td>57</td>\n",
       "      <td>47.0</td>\n",
       "      <td>45.0</td>\n",
       "      <td>29.0</td>\n",
       "      <td>23.0</td>\n",
       "      <td>18.0</td>\n",
       "      <td>...</td>\n",
       "      <td>NaN</td>\n",
       "      <td>NaN</td>\n",
       "      <td>NaN</td>\n",
       "      <td>NaN</td>\n",
       "      <td>218</td>\n",
       "      <td>9</td>\n",
       "      <td>Aguilera, ChristinaCome On Over Baby (All I Wa...</td>\n",
       "      <td>2000-08-05</td>\n",
       "      <td>2000-10-14</td>\n",
       "      <td>8</td>\n",
       "    </tr>\n",
       "  </tbody>\n",
       "</table>\n",
       "<p>5 rows × 75 columns</p>\n",
       "</div>"
      ],
      "text/plain": [
       "   year               artist                                  track genre   1  \\\n",
       "0  2000      Destiny's Child               Independent Women Part I  Rock  78   \n",
       "1  2000              Santana                           Maria, Maria  Rock  15   \n",
       "2  2000        Savage Garden                     I Knew I Loved You  Rock  71   \n",
       "3  2000              Madonna                                  Music  Rock  41   \n",
       "4  2000  Aguilera, Christina  Come On Over Baby (All I Want Is You)  Rock  57   \n",
       "\n",
       "      2     3     4     5     6      ...        62  63  64  65  \\\n",
       "0  63.0  49.0  33.0  23.0  15.0      ...       NaN NaN NaN NaN   \n",
       "1   8.0   6.0   5.0   2.0   3.0      ...       NaN NaN NaN NaN   \n",
       "2  48.0  43.0  31.0  20.0  13.0      ...       NaN NaN NaN NaN   \n",
       "3  23.0  18.0  14.0   2.0   1.0      ...       NaN NaN NaN NaN   \n",
       "4  47.0  45.0  29.0  23.0  18.0      ...       NaN NaN NaN NaN   \n",
       "\n",
       "   time_in_seconds  track_title_length  \\\n",
       "0              218                   4   \n",
       "1              258                   2   \n",
       "2              247                   5   \n",
       "3              225                   1   \n",
       "4              218                   9   \n",
       "\n",
       "                                        artist_track  datetime_entered  \\\n",
       "0            Destiny's ChildIndependent Women Part I        2000-09-23   \n",
       "1                                SantanaMaria, Maria        2000-02-12   \n",
       "2                    Savage GardenI Knew I Loved You        1999-10-23   \n",
       "3                                       MadonnaMusic        2000-08-12   \n",
       "4  Aguilera, ChristinaCome On Over Baby (All I Wa...        2000-08-05   \n",
       "\n",
       "   datetime_peaked  month_entered  \n",
       "0       2000-11-18              9  \n",
       "1       2000-04-08              2  \n",
       "2       2000-01-29             10  \n",
       "3       2000-09-16              8  \n",
       "4       2000-10-14              8  \n",
       "\n",
       "[5 rows x 75 columns]"
      ]
     },
     "execution_count": 18,
     "metadata": {},
     "output_type": "execute_result"
    }
   ],
   "source": [
    "#Change week column names to prepare for the upcoming melt operation.\n",
    "def re_name(x):\n",
    "    if (len(x)==10) & (x[0]=='x'):\n",
    "        return int(x[1:3])\n",
    "    elif (x[0]=='x'):\n",
    "        return int(x[1])\n",
    "    else:\n",
    "        return x\n",
    "\n",
    "billboard.rename(columns=lambda x: re_name(x), inplace=True)\n",
    "billboard.head()"
   ]
  },
  {
   "cell_type": "markdown",
   "metadata": {
    "focus": false,
    "id": "604ee5d7-10ed-4d14-9f86-16a6b240c00d"
   },
   "source": [
    "Using Pandas' built in `melt` function, pivot the weekly ranking data to be long rather than wide. As a result, you will have removed the 72 'week' columns and replace it with two: Week and Ranking. There will now be multiple entries for each song, one for each week on the Billboard rankings."
   ]
  },
  {
   "cell_type": "code",
   "execution_count": 19,
   "metadata": {
    "collapsed": false,
    "focus": false,
    "id": "bf0161ca-0fcb-4883-a216-93fd7ffa6456"
   },
   "outputs": [
    {
     "data": {
      "text/html": [
       "<div>\n",
       "<table border=\"1\" class=\"dataframe\">\n",
       "  <thead>\n",
       "    <tr style=\"text-align: right;\">\n",
       "      <th></th>\n",
       "      <th>year</th>\n",
       "      <th>artist</th>\n",
       "      <th>track</th>\n",
       "      <th>genre</th>\n",
       "      <th>time_in_seconds</th>\n",
       "      <th>track_title_length</th>\n",
       "      <th>artist_track</th>\n",
       "      <th>datetime_entered</th>\n",
       "      <th>datetime_peaked</th>\n",
       "      <th>month_entered</th>\n",
       "      <th>week</th>\n",
       "      <th>rank</th>\n",
       "    </tr>\n",
       "  </thead>\n",
       "  <tbody>\n",
       "    <tr>\n",
       "      <th>0</th>\n",
       "      <td>2000</td>\n",
       "      <td>Destiny's Child</td>\n",
       "      <td>Independent Women Part I</td>\n",
       "      <td>Rock</td>\n",
       "      <td>218</td>\n",
       "      <td>4</td>\n",
       "      <td>Destiny's ChildIndependent Women Part I</td>\n",
       "      <td>2000-09-23</td>\n",
       "      <td>2000-11-18</td>\n",
       "      <td>9</td>\n",
       "      <td>1</td>\n",
       "      <td>78.0</td>\n",
       "    </tr>\n",
       "    <tr>\n",
       "      <th>1</th>\n",
       "      <td>2000</td>\n",
       "      <td>Santana</td>\n",
       "      <td>Maria, Maria</td>\n",
       "      <td>Rock</td>\n",
       "      <td>258</td>\n",
       "      <td>2</td>\n",
       "      <td>SantanaMaria, Maria</td>\n",
       "      <td>2000-02-12</td>\n",
       "      <td>2000-04-08</td>\n",
       "      <td>2</td>\n",
       "      <td>1</td>\n",
       "      <td>15.0</td>\n",
       "    </tr>\n",
       "    <tr>\n",
       "      <th>2</th>\n",
       "      <td>2000</td>\n",
       "      <td>Savage Garden</td>\n",
       "      <td>I Knew I Loved You</td>\n",
       "      <td>Rock</td>\n",
       "      <td>247</td>\n",
       "      <td>5</td>\n",
       "      <td>Savage GardenI Knew I Loved You</td>\n",
       "      <td>1999-10-23</td>\n",
       "      <td>2000-01-29</td>\n",
       "      <td>10</td>\n",
       "      <td>1</td>\n",
       "      <td>71.0</td>\n",
       "    </tr>\n",
       "    <tr>\n",
       "      <th>3</th>\n",
       "      <td>2000</td>\n",
       "      <td>Madonna</td>\n",
       "      <td>Music</td>\n",
       "      <td>Rock</td>\n",
       "      <td>225</td>\n",
       "      <td>1</td>\n",
       "      <td>MadonnaMusic</td>\n",
       "      <td>2000-08-12</td>\n",
       "      <td>2000-09-16</td>\n",
       "      <td>8</td>\n",
       "      <td>1</td>\n",
       "      <td>41.0</td>\n",
       "    </tr>\n",
       "    <tr>\n",
       "      <th>4</th>\n",
       "      <td>2000</td>\n",
       "      <td>Aguilera, Christina</td>\n",
       "      <td>Come On Over Baby (All I Want Is You)</td>\n",
       "      <td>Rock</td>\n",
       "      <td>218</td>\n",
       "      <td>9</td>\n",
       "      <td>Aguilera, ChristinaCome On Over Baby (All I Wa...</td>\n",
       "      <td>2000-08-05</td>\n",
       "      <td>2000-10-14</td>\n",
       "      <td>8</td>\n",
       "      <td>1</td>\n",
       "      <td>57.0</td>\n",
       "    </tr>\n",
       "  </tbody>\n",
       "</table>\n",
       "</div>"
      ],
      "text/plain": [
       "   year               artist                                  track genre  \\\n",
       "0  2000      Destiny's Child               Independent Women Part I  Rock   \n",
       "1  2000              Santana                           Maria, Maria  Rock   \n",
       "2  2000        Savage Garden                     I Knew I Loved You  Rock   \n",
       "3  2000              Madonna                                  Music  Rock   \n",
       "4  2000  Aguilera, Christina  Come On Over Baby (All I Want Is You)  Rock   \n",
       "\n",
       "   time_in_seconds  track_title_length  \\\n",
       "0              218                   4   \n",
       "1              258                   2   \n",
       "2              247                   5   \n",
       "3              225                   1   \n",
       "4              218                   9   \n",
       "\n",
       "                                        artist_track datetime_entered  \\\n",
       "0            Destiny's ChildIndependent Women Part I       2000-09-23   \n",
       "1                                SantanaMaria, Maria       2000-02-12   \n",
       "2                    Savage GardenI Knew I Loved You       1999-10-23   \n",
       "3                                       MadonnaMusic       2000-08-12   \n",
       "4  Aguilera, ChristinaCome On Over Baby (All I Wa...       2000-08-05   \n",
       "\n",
       "  datetime_peaked  month_entered week  rank  \n",
       "0      2000-11-18              9    1  78.0  \n",
       "1      2000-04-08              2    1  15.0  \n",
       "2      2000-01-29             10    1  71.0  \n",
       "3      2000-09-16              8    1  41.0  \n",
       "4      2000-10-14              8    1  57.0  "
      ]
     },
     "execution_count": 19,
     "metadata": {},
     "output_type": "execute_result"
    }
   ],
   "source": [
    "melt_value_list = list(billboard.columns)[4:-6] #Choose values\n",
    "melt_index_list = list(billboard.columns)[:4] + list(billboard.columns)[-6:] #Choose index\n",
    "billboard_melted = pd.melt(billboard, id_vars = melt_index_list, value_vars= melt_value_list)\n",
    "billboard_melted.rename(columns = {'variable':'week', 'value':'rank'}, inplace=True) \n",
    "billboard_melted = billboard_melted[billboard_melted['rank'].notnull()] # Remove redundant columns\n",
    "billboard_melted.head()"
   ]
  },
  {
   "cell_type": "code",
   "execution_count": 20,
   "metadata": {
    "collapsed": false
   },
   "outputs": [],
   "source": [
    "dt = timedelta(days=7)\n",
    "billboard_melted['week'] = billboard_melted['week'].astype(int) # Change to useful dtype\n",
    "billboard_melted['datetime_current'] = billboard_melted['datetime_entered'] + (billboard_melted['week']-1)*dt\n",
    "billboard_melted['week'] = billboard_melted['week'].astype(int)\n",
    "billboard_melted['genre'] = billboard_melted['genre'].astype('category')\n",
    "billboard_melted = billboard_melted[billboard_melted['rank'].notnull()]\n",
    "billboard_melted.drop(['track'], axis =1, inplace = True)"
   ]
  },
  {
   "cell_type": "code",
   "execution_count": 22,
   "metadata": {
    "collapsed": false
   },
   "outputs": [
    {
     "data": {
      "text/html": [
       "<div>\n",
       "<table border=\"1\" class=\"dataframe\">\n",
       "  <thead>\n",
       "    <tr style=\"text-align: right;\">\n",
       "      <th></th>\n",
       "      <th>year</th>\n",
       "      <th>artist</th>\n",
       "      <th>genre</th>\n",
       "      <th>time_in_seconds</th>\n",
       "      <th>track_title_length</th>\n",
       "      <th>artist_track</th>\n",
       "      <th>datetime_entered</th>\n",
       "      <th>datetime_peaked</th>\n",
       "      <th>month_entered</th>\n",
       "      <th>week</th>\n",
       "      <th>rank</th>\n",
       "      <th>datetime_current</th>\n",
       "    </tr>\n",
       "  </thead>\n",
       "  <tbody>\n",
       "    <tr>\n",
       "      <th>0</th>\n",
       "      <td>2000</td>\n",
       "      <td>Destiny's Child</td>\n",
       "      <td>Rock</td>\n",
       "      <td>218</td>\n",
       "      <td>4</td>\n",
       "      <td>Destiny's ChildIndependent Women Part I</td>\n",
       "      <td>2000-09-23</td>\n",
       "      <td>2000-11-18</td>\n",
       "      <td>9</td>\n",
       "      <td>1</td>\n",
       "      <td>78.0</td>\n",
       "      <td>2000-09-23</td>\n",
       "    </tr>\n",
       "    <tr>\n",
       "      <th>1</th>\n",
       "      <td>2000</td>\n",
       "      <td>Santana</td>\n",
       "      <td>Rock</td>\n",
       "      <td>258</td>\n",
       "      <td>2</td>\n",
       "      <td>SantanaMaria, Maria</td>\n",
       "      <td>2000-02-12</td>\n",
       "      <td>2000-04-08</td>\n",
       "      <td>2</td>\n",
       "      <td>1</td>\n",
       "      <td>15.0</td>\n",
       "      <td>2000-02-12</td>\n",
       "    </tr>\n",
       "    <tr>\n",
       "      <th>2</th>\n",
       "      <td>2000</td>\n",
       "      <td>Savage Garden</td>\n",
       "      <td>Rock</td>\n",
       "      <td>247</td>\n",
       "      <td>5</td>\n",
       "      <td>Savage GardenI Knew I Loved You</td>\n",
       "      <td>1999-10-23</td>\n",
       "      <td>2000-01-29</td>\n",
       "      <td>10</td>\n",
       "      <td>1</td>\n",
       "      <td>71.0</td>\n",
       "      <td>1999-10-23</td>\n",
       "    </tr>\n",
       "    <tr>\n",
       "      <th>3</th>\n",
       "      <td>2000</td>\n",
       "      <td>Madonna</td>\n",
       "      <td>Rock</td>\n",
       "      <td>225</td>\n",
       "      <td>1</td>\n",
       "      <td>MadonnaMusic</td>\n",
       "      <td>2000-08-12</td>\n",
       "      <td>2000-09-16</td>\n",
       "      <td>8</td>\n",
       "      <td>1</td>\n",
       "      <td>41.0</td>\n",
       "      <td>2000-08-12</td>\n",
       "    </tr>\n",
       "    <tr>\n",
       "      <th>4</th>\n",
       "      <td>2000</td>\n",
       "      <td>Aguilera, Christina</td>\n",
       "      <td>Rock</td>\n",
       "      <td>218</td>\n",
       "      <td>9</td>\n",
       "      <td>Aguilera, ChristinaCome On Over Baby (All I Wa...</td>\n",
       "      <td>2000-08-05</td>\n",
       "      <td>2000-10-14</td>\n",
       "      <td>8</td>\n",
       "      <td>1</td>\n",
       "      <td>57.0</td>\n",
       "      <td>2000-08-05</td>\n",
       "    </tr>\n",
       "  </tbody>\n",
       "</table>\n",
       "</div>"
      ],
      "text/plain": [
       "   year               artist genre  time_in_seconds  track_title_length  \\\n",
       "0  2000      Destiny's Child  Rock              218                   4   \n",
       "1  2000              Santana  Rock              258                   2   \n",
       "2  2000        Savage Garden  Rock              247                   5   \n",
       "3  2000              Madonna  Rock              225                   1   \n",
       "4  2000  Aguilera, Christina  Rock              218                   9   \n",
       "\n",
       "                                        artist_track datetime_entered  \\\n",
       "0            Destiny's ChildIndependent Women Part I       2000-09-23   \n",
       "1                                SantanaMaria, Maria       2000-02-12   \n",
       "2                    Savage GardenI Knew I Loved You       1999-10-23   \n",
       "3                                       MadonnaMusic       2000-08-12   \n",
       "4  Aguilera, ChristinaCome On Over Baby (All I Wa...       2000-08-05   \n",
       "\n",
       "  datetime_peaked  month_entered  week  rank datetime_current  \n",
       "0      2000-11-18              9     1  78.0       2000-09-23  \n",
       "1      2000-04-08              2     1  15.0       2000-02-12  \n",
       "2      2000-01-29             10     1  71.0       1999-10-23  \n",
       "3      2000-09-16              8     1  41.0       2000-08-12  \n",
       "4      2000-10-14              8     1  57.0       2000-08-05  "
      ]
     },
     "execution_count": 22,
     "metadata": {},
     "output_type": "execute_result"
    }
   ],
   "source": [
    "billboard_melted.head() # Confirm final df structure"
   ]
  },
  {
   "cell_type": "code",
   "execution_count": 23,
   "metadata": {
    "collapsed": false
   },
   "outputs": [
    {
     "data": {
      "text/html": [
       "<div>\n",
       "<table border=\"1\" class=\"dataframe\">\n",
       "  <thead>\n",
       "    <tr style=\"text-align: right;\">\n",
       "      <th></th>\n",
       "      <th>year</th>\n",
       "      <th>artist</th>\n",
       "      <th>genre</th>\n",
       "      <th>time_in_seconds</th>\n",
       "      <th>track_title_length</th>\n",
       "      <th>artist_track</th>\n",
       "      <th>datetime_entered</th>\n",
       "      <th>datetime_peaked</th>\n",
       "      <th>month_entered</th>\n",
       "      <th>max_rank</th>\n",
       "      <th>total_weeks_in</th>\n",
       "    </tr>\n",
       "  </thead>\n",
       "  <tbody>\n",
       "    <tr>\n",
       "      <th>0</th>\n",
       "      <td>2000</td>\n",
       "      <td>Destiny's Child</td>\n",
       "      <td>Rock</td>\n",
       "      <td>218</td>\n",
       "      <td>4</td>\n",
       "      <td>Destiny's ChildIndependent Women Part I</td>\n",
       "      <td>2000-09-23</td>\n",
       "      <td>2000-11-18</td>\n",
       "      <td>9</td>\n",
       "      <td>1.0</td>\n",
       "      <td>28</td>\n",
       "    </tr>\n",
       "    <tr>\n",
       "      <th>1</th>\n",
       "      <td>2000</td>\n",
       "      <td>Santana</td>\n",
       "      <td>Rock</td>\n",
       "      <td>258</td>\n",
       "      <td>2</td>\n",
       "      <td>SantanaMaria, Maria</td>\n",
       "      <td>2000-02-12</td>\n",
       "      <td>2000-04-08</td>\n",
       "      <td>2</td>\n",
       "      <td>1.0</td>\n",
       "      <td>26</td>\n",
       "    </tr>\n",
       "    <tr>\n",
       "      <th>2</th>\n",
       "      <td>2000</td>\n",
       "      <td>Savage Garden</td>\n",
       "      <td>Rock</td>\n",
       "      <td>247</td>\n",
       "      <td>5</td>\n",
       "      <td>Savage GardenI Knew I Loved You</td>\n",
       "      <td>1999-10-23</td>\n",
       "      <td>2000-01-29</td>\n",
       "      <td>10</td>\n",
       "      <td>1.0</td>\n",
       "      <td>33</td>\n",
       "    </tr>\n",
       "    <tr>\n",
       "      <th>3</th>\n",
       "      <td>2000</td>\n",
       "      <td>Madonna</td>\n",
       "      <td>Rock</td>\n",
       "      <td>225</td>\n",
       "      <td>1</td>\n",
       "      <td>MadonnaMusic</td>\n",
       "      <td>2000-08-12</td>\n",
       "      <td>2000-09-16</td>\n",
       "      <td>8</td>\n",
       "      <td>1.0</td>\n",
       "      <td>24</td>\n",
       "    </tr>\n",
       "    <tr>\n",
       "      <th>4</th>\n",
       "      <td>2000</td>\n",
       "      <td>Aguilera, Christina</td>\n",
       "      <td>Rock</td>\n",
       "      <td>218</td>\n",
       "      <td>9</td>\n",
       "      <td>Aguilera, ChristinaCome On Over Baby (All I Wa...</td>\n",
       "      <td>2000-08-05</td>\n",
       "      <td>2000-10-14</td>\n",
       "      <td>8</td>\n",
       "      <td>1.0</td>\n",
       "      <td>21</td>\n",
       "    </tr>\n",
       "  </tbody>\n",
       "</table>\n",
       "</div>"
      ],
      "text/plain": [
       "   year               artist genre  time_in_seconds  track_title_length  \\\n",
       "0  2000      Destiny's Child  Rock              218                   4   \n",
       "1  2000              Santana  Rock              258                   2   \n",
       "2  2000        Savage Garden  Rock              247                   5   \n",
       "3  2000              Madonna  Rock              225                   1   \n",
       "4  2000  Aguilera, Christina  Rock              218                   9   \n",
       "\n",
       "                                        artist_track datetime_entered  \\\n",
       "0            Destiny's ChildIndependent Women Part I       2000-09-23   \n",
       "1                                SantanaMaria, Maria       2000-02-12   \n",
       "2                    Savage GardenI Knew I Loved You       1999-10-23   \n",
       "3                                       MadonnaMusic       2000-08-12   \n",
       "4  Aguilera, ChristinaCome On Over Baby (All I Wa...       2000-08-05   \n",
       "\n",
       "  datetime_peaked  month_entered  max_rank  total_weeks_in  \n",
       "0      2000-11-18              9       1.0              28  \n",
       "1      2000-04-08              2       1.0              26  \n",
       "2      2000-01-29             10       1.0              33  \n",
       "3      2000-09-16              8       1.0              24  \n",
       "4      2000-10-14              8       1.0              21  "
      ]
     },
     "execution_count": 23,
     "metadata": {},
     "output_type": "execute_result"
    }
   ],
   "source": [
    "max_rank = pd.pivot_table(billboard_melted, index=['artist_track'], values=['rank'], aggfunc=np.min) # Use pivot tables to obtain important stats\n",
    "max_rank = max_rank.reset_index()\n",
    "max_rank.rename(columns = {'rank':'max_rank'}, inplace=True)\n",
    "total_duration = pd.pivot_table(billboard_melted, index=['artist_track'], values=['rank'], aggfunc='count')\n",
    "total_duration = total_duration.reset_index()\n",
    "total_duration.rename(columns = {'rank':'total_weeks_in'}, inplace=True)\n",
    "billboard = billboard.merge(max_rank, on=['artist_track'], how='outer') # Merge tables\n",
    "billboard = billboard.merge(total_duration, on=['artist_track'], how='outer')\n",
    "billboard = billboard.drop(range(1,66), axis=1)\n",
    "billboard.drop(['track'], axis =1, inplace = True)\n",
    "billboard.head()"
   ]
  },
  {
   "cell_type": "markdown",
   "metadata": {
    "focus": false,
    "id": "2023c5a8-1f4e-4d83-9a52-c41a5090af74"
   },
   "source": [
    "### Visualising the data."
   ]
  },
  {
   "cell_type": "markdown",
   "metadata": {
    "focus": false,
    "id": "dfaca026-8eca-4119-b4c1-e43433790c8e"
   },
   "source": [
    "Matplotlib is used to create visualizations that provides context to the data. The goal is to give insights to the distribution, statistics, and relationships of the data. "
   ]
  },
  {
   "cell_type": "markdown",
   "metadata": {},
   "source": [
    "#### Track title length"
   ]
  },
  {
   "cell_type": "code",
   "execution_count": 24,
   "metadata": {
    "collapsed": false
   },
   "outputs": [
    {
     "data": {
      "image/png": "[encoded data removed]",
      "text/plain": [
       "<matplotlib.figure.Figure at 0x116e4f190>"
      ]
     },
     "metadata": {},
     "output_type": "display_data"
    }
   ],
   "source": [
    "fig = plt.figure(figsize=(4,6))\n",
    "ax = fig.add_subplot(111, axisbg='w')\n",
    "ax.boxplot(billboard['track_title_length'])\n",
    "ax.set(xlabel='Track title length', \n",
    "       ylabel='Counts',\n",
    "       ylim = [0,8])\n",
    "ax.set_title('Track title length distribution in Billboard 2000', fontdict={'fontsize' : 15})\n",
    "plt.show()"
   ]
  },
  {
   "cell_type": "code",
   "execution_count": 25,
   "metadata": {
    "collapsed": false
   },
   "outputs": [
    {
     "data": {
      "image/png": "[encoded data removed]",
      "text/plain": [
       "<matplotlib.figure.Figure at 0x117623590>"
      ]
     },
     "metadata": {},
     "output_type": "display_data"
    }
   ],
   "source": [
    "fig = plt.figure(figsize=(12,6))\n",
    "ax3 = fig.add_subplot(121, axisbg='w')\n",
    "ax4 = fig.add_subplot(122, axisbg='w')\n",
    "pd.pivot_table(billboard, index=['track_title_length'], values=['max_rank']).plot(kind='bar', color='orange', ax=ax3)\n",
    "ax3.set(xlabel='Track title length', \n",
    "       ylabel='Average Maximum rank (lower is better)',\n",
    "       ylim=[0,100])\n",
    "ax3.set_title('Relationship between length \\nof track title and its ranking', fontdict={'fontsize' : 15})\n",
    "ax3.legend().set_visible(False)\n",
    "\n",
    "pd.pivot_table(billboard, index=['track_title_length'], values=['total_weeks_in']).plot(kind='bar', color='orange', ax=ax4)\n",
    "ax4.set(xlabel='Track title length', \n",
    "       ylabel='Average total weeks in Billboard')\n",
    "ax4.set_title('Relationship between length of \\ntrack title and the time it stays in Billboard chart', fontdict={'fontsize' : 15})\n",
    "ax4.legend().set_visible(False)\n",
    "plt.tight_layout()   \n",
    "plt.show()"
   ]
  },
  {
   "cell_type": "markdown",
   "metadata": {},
   "source": [
    "#### Track length"
   ]
  },
  {
   "cell_type": "code",
   "execution_count": 26,
   "metadata": {
    "collapsed": false,
    "focus": false,
    "id": "aa0c535c-497c-4f10-b695-540612ca534e"
   },
   "outputs": [
    {
     "data": {
      "image/png": "[encoded data removed]",
      "text/plain": [
       "<matplotlib.figure.Figure at 0x1174f0c50>"
      ]
     },
     "metadata": {},
     "output_type": "display_data"
    }
   ],
   "source": [
    "fig = plt.figure(figsize=(8,6))\n",
    "ax = fig.add_subplot(111, axisbg='w')\n",
    "ax.hist(billboard['time_in_seconds'], color = 'orange')\n",
    "ax.set(xlabel='Track length in seconds', \n",
    "       ylabel='Counts')\n",
    "ax.set_title('Hitogram describing track length distribution in Billboard 2000', fontdict={'fontsize' : 15})\n",
    "       \n",
    "plt.show()"
   ]
  },
  {
   "cell_type": "code",
   "execution_count": 27,
   "metadata": {
    "collapsed": false
   },
   "outputs": [
    {
     "data": {
      "image/png": "[encoded data removed]",
      "text/plain": [
       "<matplotlib.figure.Figure at 0x1177a8bd0>"
      ]
     },
     "metadata": {},
     "output_type": "display_data"
    }
   ],
   "source": [
    "# In order to produce better visualisation, it is necessary to change the rank column so that higher rank represents\n",
    "# more popular tracks\n",
    "\n",
    "fig = plt.figure(figsize=(12,6))\n",
    "ax1 = fig.add_subplot(121, axisbg='w')\n",
    "ax2 = fig.add_subplot(122, axisbg='w')\n",
    "\n",
    "\n",
    "ax1.scatter(x=billboard['time_in_seconds'], y=billboard['max_rank'], color = 'orange', s=30)\n",
    "ax1.set(xlabel='Track time (s)', \n",
    "       ylabel='Maximum rank (lower is better)',\n",
    "       ylim=[0,100])\n",
    "ax1.set_title('Relationship between length \\nof track and its ranking', fontdict={'fontsize' : 15})\n",
    "\n",
    "ax2.scatter(x=billboard['time_in_seconds'], y=billboard['total_weeks_in'], color = 'orange', s=30)\n",
    "ax2.set(xlabel='Track time (s)', \n",
    "       ylabel='Total weeks in Billboard')\n",
    "ax2.set_title('Relationship between length \\nof track and the time it stays in Billboard chart', fontdict={'fontsize' : 15})\n",
    "plt.tight_layout()   \n",
    "plt.show()"
   ]
  },
  {
   "cell_type": "markdown",
   "metadata": {},
   "source": [
    "#### Genre"
   ]
  },
  {
   "cell_type": "code",
   "execution_count": 28,
   "metadata": {
    "collapsed": false
   },
   "outputs": [
    {
     "data": {
      "image/png": "[encoded data removed]",
      "text/plain": [
       "<matplotlib.figure.Figure at 0x11762d4d0>"
      ]
     },
     "metadata": {},
     "output_type": "display_data"
    }
   ],
   "source": [
    "fig = plt.figure(figsize=(8,6))\n",
    "ax = fig.add_subplot(111, axisbg='w')\n",
    "billboard['genre'].value_counts().plot(kind='barh',color='orange', ax=ax)\n",
    "ax.set(xlabel='Number of tracks on board', \n",
    "       ylabel='Genre')\n",
    "ax.set_title('Horizontal bar describing the composition of Billboard in 2000 by genre', fontdict={'fontsize' : 16})\n",
    "plt.show()"
   ]
  },
  {
   "cell_type": "code",
   "execution_count": 29,
   "metadata": {
    "collapsed": false
   },
   "outputs": [
    {
     "data": {
      "image/png": "[encoded data removed]",
      "text/plain": [
       "<matplotlib.figure.Figure at 0x1189e65d0>"
      ]
     },
     "metadata": {},
     "output_type": "display_data"
    }
   ],
   "source": [
    "genre_max_week = pd.pivot_table(billboard, index=['genre'], values=['total_weeks_in'])\n",
    "genre_max_week = genre_max_week.reset_index()\n",
    "genre_max_rank = pd.pivot_table(billboard, index=['genre'], values=['max_rank'])\n",
    "genre_max_rank = genre_max_rank.reset_index()\n",
    "fig = plt.figure(figsize=(12,6))\n",
    "ax1 = fig.add_subplot(121, axisbg='w')\n",
    "genre_max_rank.plot(kind='bar',color='orange', ax=ax1)\n",
    "ax1.set(xlabel='Genre', \n",
    "       ylabel='Average max rank (lower is better)')\n",
    "ax1.set_xticklabels(genre_max_rank['genre'])\n",
    "ax1.set_title('Average maximum rank score across genre', fontdict={'fontsize' : 16})\n",
    "ax1.legend().set_visible(False)\n",
    "ax2 = fig.add_subplot(122, axisbg='w')\n",
    "genre_max_week.plot(kind='bar',color='orange', ax=ax2)\n",
    "ax2.set(xlabel='Genre', \n",
    "       ylabel='Average weeks in chart')\n",
    "ax2.set_xticklabels(genre_max_rank['genre'])\n",
    "ax2.set_title('Average weeks in charge across genre', fontdict={'fontsize' : 16})\n",
    "ax2.legend().set_visible(False)\n",
    "plt.show()"
   ]
  },
  {
   "cell_type": "markdown",
   "metadata": {},
   "source": [
    "#### Artist"
   ]
  },
  {
   "cell_type": "code",
   "execution_count": 30,
   "metadata": {
    "collapsed": false
   },
   "outputs": [
    {
     "data": {
      "image/png": "[encoded data removed]",
      "text/plain": [
       "<matplotlib.figure.Figure at 0x1189fc710>"
      ]
     },
     "metadata": {},
     "output_type": "display_data"
    }
   ],
   "source": [
    "fig = plt.figure(figsize=(8,6))\n",
    "ax = fig.add_subplot(111, axisbg='w')\n",
    "billboard['artist'].value_counts().head().plot(kind='barh',color='orange', ax=ax)\n",
    "ax.set(xlabel='Number of tracks on board', \n",
    "       ylabel='Artist')\n",
    "ax.set_title('Horizontal bar describing the artists with most entries', fontdict={'fontsize' : 16})\n",
    "plt.show()"
   ]
  },
  {
   "cell_type": "markdown",
   "metadata": {},
   "source": [
    "#### Max rank distribution"
   ]
  },
  {
   "cell_type": "code",
   "execution_count": 31,
   "metadata": {
    "collapsed": false
   },
   "outputs": [
    {
     "data": {
      "image/png": "[encoded data removed]",
      "text/plain": [
       "<matplotlib.figure.Figure at 0x118c20910>"
      ]
     },
     "metadata": {},
     "output_type": "display_data"
    }
   ],
   "source": [
    "fig = plt.figure(figsize=(8,6))\n",
    "ax = fig.add_subplot(111, axisbg='w')\n",
    "ax.hist(billboard['max_rank'], color = 'orange', bins=20)\n",
    "ax.set(xlabel='Max rank', \n",
    "       ylabel='Counts')\n",
    "ax.set_title('Hitogram describing the maximum rank distribution', fontdict={'fontsize' : 15})       \n",
    "plt.show()"
   ]
  },
  {
   "cell_type": "markdown",
   "metadata": {},
   "source": [
    "#### Duration distribution"
   ]
  },
  {
   "cell_type": "code",
   "execution_count": 32,
   "metadata": {
    "collapsed": false
   },
   "outputs": [
    {
     "data": {
      "image/png": "[encoded data removed]",
      "text/plain": [
       "<matplotlib.figure.Figure at 0x118ade190>"
      ]
     },
     "metadata": {},
     "output_type": "display_data"
    }
   ],
   "source": [
    "fig = plt.figure(figsize=(8,6))\n",
    "ax = fig.add_subplot(111, axisbg='w')\n",
    "ax.hist(billboard['total_weeks_in'], color = 'orange', bins=15)\n",
    "ax.set(xlabel='Weeks on board', \n",
    "       ylabel='Counts')\n",
    "ax.set_title('Hitogram describing for how long a track stays in Billboard 2000', fontdict={'fontsize' : 15})\n",
    "       \n",
    "plt.show()"
   ]
  },
  {
   "cell_type": "markdown",
   "metadata": {},
   "source": [
    "#### Max rank vs duration"
   ]
  },
  {
   "cell_type": "code",
   "execution_count": 33,
   "metadata": {
    "collapsed": false
   },
   "outputs": [
    {
     "data": {
      "image/png": "[encoded data removed]",
      "text/plain": [
       "<matplotlib.figure.Figure at 0x117fb1f10>"
      ]
     },
     "metadata": {},
     "output_type": "display_data"
    }
   ],
   "source": [
    "fig = plt.figure(figsize=(8,6))\n",
    "ax1 = fig.add_subplot(111, axisbg='w')\n",
    "sns.regplot(billboard['total_weeks_in'], billboard['max_rank'], color = 'orange', ax=ax1, line_kws={'color':'r', 'alpha':0.5})\n",
    "ax1.set(xlabel='Total weeks in Billboard', \n",
    "       ylabel='Maximum rank (lower is better)',\n",
    "       ylim=[0,100],\n",
    "       xlim=[0,60])\n",
    "ax1.set_title('Relationship between length of track and its ranking', fontdict={'fontsize' : 15})\n",
    "plt.show()"
   ]
  },
  {
   "cell_type": "code",
   "execution_count": 34,
   "metadata": {
    "collapsed": false
   },
   "outputs": [
    {
     "data": {
      "text/html": [
       "<div>\n",
       "<table border=\"1\" class=\"dataframe\">\n",
       "  <thead>\n",
       "    <tr style=\"text-align: right;\">\n",
       "      <th></th>\n",
       "      <th>year</th>\n",
       "      <th>artist</th>\n",
       "      <th>genre</th>\n",
       "      <th>time_in_seconds</th>\n",
       "      <th>track_title_length</th>\n",
       "      <th>artist_track</th>\n",
       "      <th>datetime_entered</th>\n",
       "      <th>datetime_peaked</th>\n",
       "      <th>month_entered</th>\n",
       "      <th>max_rank</th>\n",
       "      <th>total_weeks_in</th>\n",
       "    </tr>\n",
       "  </thead>\n",
       "  <tbody>\n",
       "    <tr>\n",
       "      <th>49</th>\n",
       "      <td>2000</td>\n",
       "      <td>Kenny G</td>\n",
       "      <td>Jazz</td>\n",
       "      <td>470</td>\n",
       "      <td>6</td>\n",
       "      <td>Kenny GAuld Lang Syne (The Millenium Mix)</td>\n",
       "      <td>1999-12-25</td>\n",
       "      <td>2000-01-08</td>\n",
       "      <td>12</td>\n",
       "      <td>7.0</td>\n",
       "      <td>5</td>\n",
       "    </tr>\n",
       "  </tbody>\n",
       "</table>\n",
       "</div>"
      ],
      "text/plain": [
       "    year   artist genre  time_in_seconds  track_title_length  \\\n",
       "49  2000  Kenny G  Jazz              470                   6   \n",
       "\n",
       "                                 artist_track datetime_entered  \\\n",
       "49  Kenny GAuld Lang Syne (The Millenium Mix)       1999-12-25   \n",
       "\n",
       "   datetime_peaked  month_entered  max_rank  total_weeks_in  \n",
       "49      2000-01-08             12       7.0               5  "
      ]
     },
     "execution_count": 34,
     "metadata": {},
     "output_type": "execute_result"
    }
   ],
   "source": [
    "billboard[(billboard['total_weeks_in']<10)&(billboard['max_rank']<10)]"
   ]
  },
  {
   "cell_type": "markdown",
   "metadata": {},
   "source": [
    "#### Days to peak"
   ]
  },
  {
   "cell_type": "code",
   "execution_count": 35,
   "metadata": {
    "collapsed": false
   },
   "outputs": [
    {
     "data": {
      "image/png": "[encoded data removed]",
      "text/plain": [
       "<matplotlib.figure.Figure at 0x117ca1810>"
      ]
     },
     "metadata": {},
     "output_type": "display_data"
    }
   ],
   "source": [
    "billboard['days_till_peak'] = billboard['datetime_peaked'] - billboard['datetime_entered']\n",
    "billboard['days_till_peak'] = billboard['days_till_peak'].apply(lambda x:int(str(x).split()[0]))\n",
    "fig = plt.figure(figsize=(8,6))\n",
    "ax = fig.add_subplot(111, axisbg='w')\n",
    "ax.hist(billboard['days_till_peak'], color = 'orange',bins=20)\n",
    "ax.set(xlabel='Days to peak', \n",
    "       ylabel='Counts')\n",
    "ax.set_title('Hitogram describing days to take a song to reach its peak rank', fontdict={'fontsize' : 15})\n",
    "#ax.axvline(billboard['days_till_peak'].median(), color='m', alpha=0.5)       \n",
    "plt.show()"
   ]
  },
  {
   "cell_type": "code",
   "execution_count": 36,
   "metadata": {
    "collapsed": false
   },
   "outputs": [
    {
     "data": {
      "image/png": "[encoded data removed]",
      "text/plain": [
       "<matplotlib.figure.Figure at 0x117f788d0>"
      ]
     },
     "metadata": {},
     "output_type": "display_data"
    }
   ],
   "source": [
    "fig = plt.figure(figsize=(12,6))\n",
    "ax1 = fig.add_subplot(121, axisbg='w')\n",
    "sns.regplot(billboard['days_till_peak'], billboard['max_rank'], color = 'orange',line_kws={'color':'r', 'alpha':0.5}, ax=ax1)\n",
    "ax1.set(xlabel='Days to peak', \n",
    "       ylabel='Maximum rank (lower is better)',\n",
    "       ylim=[0,100],\n",
    "       xlim = [0,350])\n",
    "ax1.set_title('Relationship between days \\nbefore peaking and best rank', fontdict={'fontsize' : 15})\n",
    "ax2 = fig.add_subplot(122, axisbg='w')\n",
    "sns.regplot(billboard['days_till_peak'], billboard['total_weeks_in'], color = 'orange', line_kws={'color':'r', 'alpha':0.5}, ax=ax2)\n",
    "ax2.set(xlabel='Days to peak', \n",
    "       ylabel='Total weeks in Billboard',\n",
    "       xlim=[0,350],\n",
    "       ylim=[0,60])\n",
    "ax2.set_title('Relationship between days before peaking \\nand how long the tracks stays', fontdict={'fontsize' : 15})\n",
    "plt.show()\n"
   ]
  },
  {
   "cell_type": "markdown",
   "metadata": {},
   "source": [
    "#### Journey of the longest staying track"
   ]
  },
  {
   "cell_type": "code",
   "execution_count": 37,
   "metadata": {
    "collapsed": false
   },
   "outputs": [
    {
     "data": {
      "image/png": "[encoded data removed]",
      "text/plain": [
       "<matplotlib.figure.Figure at 0x1194e2f50>"
      ]
     },
     "metadata": {},
     "output_type": "display_data"
    }
   ],
   "source": [
    "longest_staying_track = billboard_melted[billboard_melted['artist_track']=='CreedHigher'][['rank','week','datetime_current']]\n",
    "longest_staying_track['rank_score'] = longest_staying_track['rank'].apply(lambda x: 101-x)# used to flip the chart for easier reading\n",
    "fig= plt.figure(figsize=(8,6))\n",
    "ax = fig.add_subplot(111, axisbg='w')\n",
    "ax.plot(longest_staying_track['datetime_current'][:20],longest_staying_track['rank_score'][:20], color='orange')\n",
    "ax.plot(longest_staying_track['datetime_current'][21:],longest_staying_track['rank_score'][21:], color='orange')\n",
    "ax.set(xlabel = 'Dates',\n",
    "       ylabel = 'Rank score (higher the better)',\n",
    "       title = 'The journey of the longest staying track')\n",
    "plt.show()"
   ]
  },
  {
   "cell_type": "markdown",
   "metadata": {},
   "source": [
    "#### Entry months"
   ]
  },
  {
   "cell_type": "code",
   "execution_count": 38,
   "metadata": {
    "collapsed": false
   },
   "outputs": [
    {
     "data": {
      "image/png": "[encoded data removed]",
      "text/plain": [
       "<matplotlib.figure.Figure at 0x117328ed0>"
      ]
     },
     "metadata": {},
     "output_type": "display_data"
    }
   ],
   "source": [
    "fig = plt.figure(figsize=(12,6))\n",
    "ax1 = fig.add_subplot(121, axisbg='w')\n",
    "pd.pivot_table(billboard, index=['month_entered'], values=['max_rank']).plot(kind='bar', color = 'orange',ax=ax1)\n",
    "ax1.set(xlabel='Entry month', \n",
    "       ylabel='Max rank (lower is better)')\n",
    "ax1.legend().set_visible(False)\n",
    "ax1.set_title('Average max rank for each month', fontdict={'fontsize' : 16})\n",
    "ax2 = fig.add_subplot(122, axisbg='w')\n",
    "pd.pivot_table(billboard, index=['month_entered'], values=['total_weeks_in']).plot(kind='bar', color = 'orange',ax=ax2)\n",
    "ax2.set(xlabel='Entry month', \n",
    "       ylabel='Average weeks in chart')\n",
    "ax2.legend().set_visible(False)\n",
    "ax2.set_title('Average weeks in chart for each month', fontdict={'fontsize' : 16})\n",
    "plt.show()"
   ]
  },
  {
   "cell_type": "code",
   "execution_count": 39,
   "metadata": {
    "collapsed": false
   },
   "outputs": [
    {
     "data": {
      "image/png": "[encoded data removed]",
      "text/plain": [
       "<matplotlib.figure.Figure at 0x1176d4290>"
      ]
     },
     "metadata": {},
     "output_type": "display_data"
    }
   ],
   "source": [
    "fig = plt.figure(figsize=(8,6))\n",
    "ax = fig.add_subplot(111, axisbg='w')\n",
    "ax.hist(billboard['month_entered'], color = 'orange', bins=12)\n",
    "ax.set(xlabel='Month', \n",
    "       ylabel='Counts')\n",
    "ax.set_title('Hitogram describing when tracks \\nwould enter chart by month', fontdict={'fontsize' : 15})       \n",
    "plt.show()"
   ]
  },
  {
   "cell_type": "markdown",
   "metadata": {
    "focus": false,
    "id": "8401c631-245b-4560-8971-25cb2406c2ab"
   },
   "source": [
    "### Problem Statement"
   ]
  },
  {
   "cell_type": "markdown",
   "metadata": {
    "collapsed": true,
    "focus": false,
    "id": "e1b81214-9b26-4735-8c1b-4482e948b355"
   },
   "source": [
    "From the EDA and plottings in previous sections, we were able to demonstrate the (lack of) relaionship between music tracks properties. It is also interesting to discover that there were some tracks that were able to make a come back after dropping out of the chart. This is not a common characteristic which is worth more investigation. Therefore the problem statement here would be to find out whether these resurrected tracks are different to the others in terms of: \n",
    "- maximum ranks\n",
    "- duration"
   ]
  },
  {
   "cell_type": "markdown",
   "metadata": {
    "collapsed": false,
    "focus": false,
    "id": "a0ff30a0-48be-4851-9ec3-4ce8ece08a67"
   },
   "source": [
    "### Approach to problem"
   ]
  },
  {
   "cell_type": "markdown",
   "metadata": {
    "collapsed": true,
    "focus": false,
    "id": "9d772c7b-61e0-4bc4-bb1a-f3d43ba54862"
   },
   "source": [
    "- First look at the data as a whole. Since we are looking at data from 2000 only it is safe to assume that our data is the population.\n",
    "- The null hypothesis would be that they are the same. Alternate hypothesis would be that they are different!\n",
    "- In order to determine the difference between sample and population, a t-test will be used since although we have the population mean and standard deviation, the sample size is small (under 30)\n",
    "- Set a proper alpha level\n",
    "- Find out the mean and standard deviation of max rank for the population\n",
    "- Find out the number of come-back tracks (this would serve as the sample size)\n",
    "- Due to Central Limit Theorem, the smple mean would be equal to the population mean\n",
    "- The sample standard deviation would be the sqrt(sum of squared deviation/sample size -1)\n",
    "- Find the mean for the come back group\n",
    "- Find the difference of the means and divide by (sample standard deviation)/sqrt(sample size)\n",
    "- Determine degree of freedom\n",
    "- Find the p-value using a t-table and determine whether to reject or accept the null hypothesis\n",
    "- Repeat process with duration in the chart\n"
   ]
  },
  {
   "cell_type": "code",
   "execution_count": 40,
   "metadata": {
    "collapsed": false
   },
   "outputs": [
    {
     "data": {
      "text/plain": [
       "0.50495065139662287"
      ]
     },
     "execution_count": 40,
     "metadata": {},
     "output_type": "execute_result"
    }
   ],
   "source": [
    "max_rank_population_mean = billboard['max_rank'].mean()\n",
    "max_rank_population_std = billboard['max_rank'].std()\n",
    "come_back_index = [i for i in range(len(continuous_lst)) if not continuous_lst[i]]\n",
    "sample_size = len(come_back_index)\n",
    "come_back_max_rank_list = [billboard['max_rank'][i] for i in come_back_index]\n",
    "sum_of_sq_deviation = np.sum([(i - max_rank_population_mean)**2 for i in come_back_max_rank_list])\n",
    "sample_standard_deviation = (sum_of_sq_deviation/(sample_size-1))**0.5\n",
    "come_back_max_rank_list_mean = np.mean(come_back_max_rank_list)\n",
    "t_stat = (come_back_max_rank_list_mean - max_rank_population_mean) / (sample_standard_deviation/(len(come_back_index)**0.5))\n",
    "t_stat"
   ]
  },
  {
   "cell_type": "code",
   "execution_count": 41,
   "metadata": {
    "collapsed": false
   },
   "outputs": [
    {
     "data": {
      "text/plain": [
       "1.0660823314816978"
      ]
     },
     "execution_count": 41,
     "metadata": {},
     "output_type": "execute_result"
    }
   ],
   "source": [
    "duration_population_mean = billboard['total_weeks_in'].mean()\n",
    "duration_population_std = billboard['total_weeks_in'].std()\n",
    "come_back_duration_list = [billboard['total_weeks_in'][i] for i in come_back_index]\n",
    "sum_of_sq_deviation = np.sum([(i - duration_population_mean)**2 for i in come_back_duration_list])\n",
    "sample_standard_deviation = (sum_of_sq_deviation/(sample_size-1))**0.5\n",
    "come_back_duration_list_mean = np.mean(come_back_duration_list)\n",
    "t_stat = (come_back_duration_list_mean - duration_population_mean) / (sample_standard_deviation/(len(come_back_index)**0.5))\n",
    "t_stat"
   ]
  },
  {
   "cell_type": "markdown",
   "metadata": {},
   "source": [
    "Since this is not a very critical scientific test, an alpha level of 0.05 is good enough. The degrees of freedom is 10 - 1 =9. After consulting the t-table it is determined that the t-statistic is 0.505. Since our aplpha level is 0.05, it requires a t-statistics of >2.262 or <-2.262 to reject the null hypothesis. In conclusion it is reasonable to accept the null hypothesis and say that the maximum rank of the come-back tracks are reasonably similar to the population. For duration we have a t-statistics of 1.066. It is also not possible for us to declare that the come-back tracks have a significantly different total staying period comparing to the whole population. Since the sample size is so small, it is very difficult to reject the null hypothesis. Therefore it would be very beneficial to include more samples from other years in order to further investigate the properties of these special tracks that made a come back."
   ]
  },
  {
   "cell_type": "markdown",
   "metadata": {},
   "source": [
    "### Conclusion\n",
    "\n",
    "This analysis has demonstrated the convenience of Pandas in data analysis using Python. This is especially true when we try to slice and aggregate the data. In terms of the Billboard chart, through visulisations we found out a rule imposed by the chart that led to a un-natural barrier in some of the graphs. This again shows the power of visulisations in digging out information that can not simply be done by looking at the numbers alone. Interesting results were also obtained in the hypothesis tests. Despite our believes that the tracks that made a come back would be different to the rest of the group, the statistics said otherwise."
   ]
  }
 ],
 "metadata": {
  "anaconda-cloud": {},
  "kernelspec": {
   "display_name": "Python [default]",
   "language": "python",
   "name": "python2"
  },
  "language_info": {
   "codemirror_mode": {
    "name": "ipython",
    "version": 2
   },
   "file_extension": ".py",
   "mimetype": "text/x-python",
   "name": "python",
   "nbconvert_exporter": "python",
   "pygments_lexer": "ipython2",
   "version": "2.7.12"
  }
 },
 "nbformat": 4,
 "nbformat_minor": 0
}
