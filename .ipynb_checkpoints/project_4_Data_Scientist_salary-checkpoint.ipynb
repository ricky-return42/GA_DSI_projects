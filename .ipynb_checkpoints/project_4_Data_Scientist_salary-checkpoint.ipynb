{
 "cells": [
  {
   "cell_type": "markdown",
   "metadata": {
    "focus": false,
    "id": "69b9a648-bcc7-490d-9f9b-ea244d156bd6"
   },
   "source": [
    "# Web Scraping for Indeed.com & Predicting Salaries"
   ]
  },
  {
   "cell_type": "markdown",
   "metadata": {},
   "source": [
    "## Problem Statement\n",
    "\n",
    "In the recent years the field of data science has undergone a rapid growth. The society has recognised the importance of data and the insight it provides. According to an <a href='https://hbr.org/2012/10/data-scientist-the-sexiest-job-of-the-21st-century'>article</a> written by the Havard Business Review, data scientist would be one of the most popular jobs in the 21st century. It is expected that a large number of candidates would like to enter the field each year to fill the demand.\n",
    "\n",
    "It would be very desirable to allow candidates to understand what salary to expect when they are applying for jobs. The increase in transparency would benefit both the employers and employess to reach an agreement with a balance of salary and skillset trade offs.\n",
    "\n",
    "Job seeking websites are popular places for candidates to look for jobs now a days. However the sheer amount of data would make analysis difficult by just eyeballing the results. Hence this project aims to utilise machine learning method to categorise data scientist jobs into different salary bins. The target website is indeed.com which is popular around the globe. Logistic regression will be used to divide the samples into 2 paying bings namely high and low. This would provide a general idea to candidates without being too specific. Specificity can introduce lots of errors as afterall job application procedures involve lots of human interactions. This would cause lots of unpredictabilitu and instability. Therefore it is decided to treat this problem as a classification rather than regression. \n",
    "\n",
    "#### Goal : To successfully categorise a job as high or low paying by analysing the details of the advert in indeed.com"
   ]
  },
  {
   "cell_type": "markdown",
   "metadata": {
    "focus": false,
    "id": "a948d79c-5527-4c0d-ab23-f5d43ce72056"
   },
   "source": [
    "### Scraping job listings from Indeed.com"
   ]
  },
  {
   "cell_type": "markdown",
   "metadata": {
    "focus": true,
    "id": "7203e0c9-e437-4802-a6ad-7dc464f94436"
   },
   "source": [
    "We will be scraping job listings from Indeed.com using BeautifulSoup. Luckily, Indeed.com is a simple text page where we can easily find relevant entries.\n",
    "\n",
    "First, look at the source of an Indeed.com page: (http://www.indeed.com/jobs?q=data+scientist+%2420%2C000&l=New+York&start=10\")\n",
    "\n",
    "Notice, each job listing is underneath a `div` tag with a class name of `result`. We can use BeautifulSoup to extract those. "
   ]
  },
  {
   "cell_type": "markdown",
   "metadata": {},
   "source": [
    "### Import modules that will be used later"
   ]
  },
  {
   "cell_type": "code",
   "execution_count": 2,
   "metadata": {
    "collapsed": true
   },
   "outputs": [],
   "source": [
    "import pandas as pd\n",
    "import numpy as np\n",
    "import re\n",
    "import urllib2\n",
    "from bs4 import BeautifulSoup\n",
    "import matplotlib.pyplot as plt\n",
    "import seaborn as sns\n",
    "%matplotlib inline"
   ]
  },
  {
   "cell_type": "markdown",
   "metadata": {
    "focus": false,
    "id": "f1eddb90-4ba8-483c-a229-77e93aa53119"
   },
   "source": [
    "### Write 5 functions to extract each item: location, company, job, and salary."
   ]
  },
  {
   "cell_type": "code",
   "execution_count": 2,
   "metadata": {
    "collapsed": true
   },
   "outputs": [],
   "source": [
    "def get_job(row):\n",
    "    try:\n",
    "        return row.a.getText()\n",
    "    except:\n",
    "        return '0'\n",
    "    \n",
    "def get_company(row):\n",
    "    try:\n",
    "        return row.span.getText().strip()\n",
    "    except:\n",
    "        return '0'\n",
    "    \n",
    "def get_location(row):\n",
    "    try:\n",
    "        return [r.getText().strip() for r in row('span', class_='location')]\n",
    "    except:\n",
    "        return '0'  \n",
    "    \n",
    "def get_salary(row):\n",
    "    try:\n",
    "        return row.nobr.getText()\n",
    "    except:\n",
    "        return '0'\n",
    "    \n",
    "def get_web_content(row):\n",
    "    # Define what skills that could be important as a data scientist. This is by all means not a very complete \n",
    "    # list where some important skills (such as R) is missing. This is due to the difficulty of implementation\n",
    "    # using regex.\n",
    "    rq_lst =['SAS','SQL','Python','Tableau','Java','Matlab','Hadoop','Hive','PIG','Spark','UNIX','C++','VBA',\n",
    "            'MongoDB','Perl','SPSS','machine learning','predictive modelling','visualization','Ph.D','ETL']\n",
    "    met_lst=[]\n",
    "    prefix = 'http://www.indeed.com'\n",
    "    suffix = row.h2.a['href']\n",
    "    # Scrape url from indeed.com search result and open the relative pages\n",
    "    url_pg = prefix + suffix\n",
    "    # Sometimes we encounter errors such as 403 where we are not authneticated. Hence a try method is used to\n",
    "    # prevent these errors from crashing the programme\n",
    "    try:\n",
    "        pval_pg = urllib2.urlopen(url_pg).read()\n",
    "        soup_pg = BeautifulSoup(pval_pg, 'lxml') \n",
    "        for rq in rq_lst:\n",
    "            # Again another error prone location where you don't find a match\n",
    "            try:\n",
    "                re.search(rq,str(soup_pg)).group()\n",
    "                met_lst.append(rq)\n",
    "            except:\n",
    "                pass\n",
    "        if met_lst != []:\n",
    "            return ' '.join(met_lst)\n",
    "    except:\n",
    "        # Return something to keep the sizes of the lists the same\n",
    "        return None\n",
    "        "
   ]
  },
  {
   "cell_type": "markdown",
   "metadata": {},
   "source": [
    "## Caution DO NOT RUN!\n",
    "\n",
    "It will take a long time. The following is my scrapping code of 13 cities and towns. As much as 80 pages i.e 800 items were scraped from each location. The total number of items are 5636 and within which 368 entires have salary details included."
   ]
  },
  {
   "cell_type": "markdown",
   "metadata": {
    "focus": false,
    "id": "34070e89-9521-4b45-90c8-57a6599aac68"
   },
   "source": [
    "Now, to scale up our scraping, we need to accumulate more results. We can do this by examining the URL above.\n",
    "\n",
    "- \"http://www.indeed.com/jobs?q=data+scientist+%2420%2C000&l=New+York&start=10\"\n",
    "\n",
    "There are two query parameters here we can alter to collect more results, the `l=New+York` and the `start=10`. The first controls the location of the results (so we can try a different city). The second controls where in the results to start and gives 10 results (thus, we can keep incrementing by 10 to go further in the list)."
   ]
  },
  {
   "cell_type": "markdown",
   "metadata": {
    "focus": false,
    "id": "e8beed7c-3e42-40c0-810f-5f67f8f885a0"
   },
   "source": [
    "#### Complete the following code to collect results from multiple cities and starting points. \n",
    "- Enter your city below to add it to the search\n",
    "- Remember to convert your salary to U.S. Dollars to match the other cities if the currency is different"
   ]
  },
  {
   "cell_type": "code",
   "execution_count": null,
   "metadata": {
    "collapsed": true
   },
   "outputs": [],
   "source": [
    "cities = ['New+York','Mountain+View','Palo+Alto','San+Francisco','Seattle',\n",
    "          'Boston','Austin','Atlanta','Washington','St.+Louis','Pittsburgh',\n",
    "          'Tampa','Cincinnati']\n",
    "\n",
    "df_dic = {}\n",
    "for city in cities:\n",
    "    ps = 1 # marker to see how many passes my algorithm needs\n",
    "    print city \n",
    "    city_dic = {} # The results for a city will be stored here\n",
    "    scrape_range = range(0,800,10) # Determine pages to scrape\n",
    "    \n",
    "'''\n",
    "The methodology of the scrapping code requires some explanation. Without being able to find out why, indeed.com\n",
    "randomly gives me undesired results. After a few trial and error it is found out that these results are the info \n",
    "contained in the first page. For example if I would like page 1-6, instead of giving me 1,2,3,4,5,6, it might return\n",
    "1,2,1,4,5,1. Therefore in order to solve the problems, I keep track of the pages to scrape. If a unique page is\n",
    "returned and scrapped, I remove it from the scrape_range list. The scrapping algorithm then runs as long as the list \n",
    "is not empty in order to guarantee all the information is recorded.\n",
    "'''\n",
    "   \n",
    "    while scrape_range != []: # \n",
    "        print 'pass: ',ps\n",
    "        for page in scrape_range: \n",
    "            #print page\n",
    "            print scrape_range\n",
    "            # lists for different attributes of an instance\n",
    "            job=[]\n",
    "            company=[]\n",
    "            salary=[]\n",
    "            location=[]\n",
    "            skills=[]\n",
    "            url = \"http://www.indeed.com/jobs?q=data+scientist+$20,000&l=%s&start=%s\" % (city,page) # get full url \n",
    "            pval = urllib2.urlopen(url).read()\n",
    "            soup = BeautifulSoup(pval, 'lxml')\n",
    "            resultcount = soup.find('div', id='searchCount')\n",
    "            max_p =  float(resultcount.getText().split()[-1].replace(',',''))\n",
    "            if page < max_p: # Some cities have fewer listing and this if statement ensures we won't enter an infinie\n",
    "                             # while loop\n",
    "                resultcol = soup.findAll('div', class_=re.compile(\"row\"))\n",
    "                for row in resultcol:\n",
    "                    # Scrape information. Note the if statement that keeps all the lists dimensions equal.\n",
    "                    job.append(get_job(row))\n",
    "                    company.append(get_company(row))\n",
    "                    location += get_location(row)\n",
    "                    if get_salary(row) != '0':\n",
    "                        salary.append(get_salary(row))\n",
    "                        skills.append(get_web_content(row))\n",
    "                    else:\n",
    "                        salary.append('0')\n",
    "                        skills.append(None)\n",
    "                # Take first page reference to provide comparison standards for future pages\n",
    "                if page == 0:\n",
    "                    ref_job = job\n",
    "                    ref_company = company\n",
    "                    ref_location = location\n",
    "                    df = pd.DataFrame({'Job':job,'Company':company,'Location':location,'Salary':salary, 'Skills':skills})\n",
    "                    ref_df = df\n",
    "                    city_dic[city+'_'+str(page)] = df\n",
    "                    scrape_range.remove(page)\n",
    "                elif (job!=ref_job)&(company!=ref_company)&(location!=ref_location):\n",
    "                    df = pd.DataFrame({'Job':job,'Company':company,'Location':location,'Salary':salary, 'Skills':skills})\n",
    "                    city_dic[city+'_'+str(page)] = df\n",
    "                    scrape_range.remove(page)\n",
    "            else:\n",
    "                scrape_range.remove(page)\n",
    "        ps += 1\n",
    "    data = pd.concat(city_dic.values())\n",
    "    data = data.reset_index(drop=True)\n",
    "    df_dic[city] = data\n",
    "    # dt_dic is a dictionaries where all the info of different cities are stored\n",
    "    print 'Finished scrapping %s' % (city)"
   ]
  },
  {
   "cell_type": "markdown",
   "metadata": {},
   "source": [
    "In order to avoid scrapping everytime when the notebook is loaded, the results are stored into a csv file for ease of access."
   ]
  },
  {
   "cell_type": "code",
   "execution_count": null,
   "metadata": {
    "collapsed": true
   },
   "outputs": [],
   "source": [
    "ds_data = pd.concat(df_dic.values())\n",
    "ds_data = ds_data.drop_duplicates() \n",
    "# Probably I should not have dropped the dulpicate this early. However when I realise this step it was already too late\n",
    "# and re-scrapping the data takes a long time. Although it should not affect the analysis but strictly speaking this \n",
    "# step should be done in the data cleaning which takes place just after this\n",
    "ds_data.to_csv('5k_cities.csv',encoding='utf-8',index=False)"
   ]
  },
  {
   "cell_type": "markdown",
   "metadata": {
    "focus": false,
    "id": "ff98ce64-78a7-441f-a675-63464e32c834"
   },
   "source": [
    "Lastly, we need to clean up salary data. (This is slightly different from the original instruction in the starter code as I think these changes would benefit the analysis of the project)\n",
    "\n",
    "1. Some of the entries may be duplicated (Already mentioned and handled in the previous cell)\n",
    "1. Only a small number of the scraped results have salary information - only these will be used for modeling.\n",
    "1. Some of the salaries are not yearly but hourly or weekly, these will be converted into yearly estimates.\n",
    "1. The salaries are given as text and usually with ranges."
   ]
  },
  {
   "cell_type": "markdown",
   "metadata": {},
   "source": [
    "# Safe to run cells at this point onwards! (Remember to import modules at the top cell)"
   ]
  },
  {
   "cell_type": "markdown",
   "metadata": {},
   "source": [
    "### 2. Extracting instances with salary information"
   ]
  },
  {
   "cell_type": "code",
   "execution_count": 3,
   "metadata": {
    "collapsed": false,
    "focus": false,
    "id": "58533e57-f86b-494a-b841-e7b59c6229c6"
   },
   "outputs": [
    {
     "data": {
      "text/html": [
       "<div>\n",
       "<table border=\"1\" class=\"dataframe\">\n",
       "  <thead>\n",
       "    <tr style=\"text-align: right;\">\n",
       "      <th></th>\n",
       "      <th>Company</th>\n",
       "      <th>Job</th>\n",
       "      <th>Location</th>\n",
       "      <th>Salary</th>\n",
       "      <th>Skills</th>\n",
       "    </tr>\n",
       "  </thead>\n",
       "  <tbody>\n",
       "    <tr>\n",
       "      <th>28</th>\n",
       "      <td>Selby Jennings</td>\n",
       "      <td>Research Analyst- 8.5bn AUM Wealth Management</td>\n",
       "      <td>Cincinnati, OH</td>\n",
       "      <td>$100,000 - $125,000 a year</td>\n",
       "      <td>NaN</td>\n",
       "    </tr>\n",
       "    <tr>\n",
       "      <th>60</th>\n",
       "      <td>City of Cincinnati</td>\n",
       "      <td>Co-Op/Intern (WATER QUALITY &amp; TREATMENT)</td>\n",
       "      <td>Cincinnati, OH</td>\n",
       "      <td>$13.75 - $16.75 an hour</td>\n",
       "      <td>NaN</td>\n",
       "    </tr>\n",
       "    <tr>\n",
       "      <th>94</th>\n",
       "      <td>Cincinnati Zoo &amp; Botanical Garden</td>\n",
       "      <td>Research Associate</td>\n",
       "      <td>Cincinnati, OH 45220 (Clifton area)</td>\n",
       "      <td>$32,000 - $35,000 a year</td>\n",
       "      <td>NaN</td>\n",
       "    </tr>\n",
       "    <tr>\n",
       "      <th>119</th>\n",
       "      <td>TEEMA Solutions Group Inc.</td>\n",
       "      <td>Machine Learning Engineer</td>\n",
       "      <td>Mountain View, CA</td>\n",
       "      <td>$150,000 - $200,000 a year</td>\n",
       "      <td>Python Java Hadoop Spark</td>\n",
       "    </tr>\n",
       "    <tr>\n",
       "      <th>132</th>\n",
       "      <td>Umpqua Bank</td>\n",
       "      <td>Pivotus Ventures - Data Scientist - Palo Alto</td>\n",
       "      <td>Palo Alto, CA</td>\n",
       "      <td>$100,000 - $160,000 a year</td>\n",
       "      <td>Python Java machine learning</td>\n",
       "    </tr>\n",
       "  </tbody>\n",
       "</table>\n",
       "</div>"
      ],
      "text/plain": [
       "                               Company  \\\n",
       "28                      Selby Jennings   \n",
       "60                  City of Cincinnati   \n",
       "94   Cincinnati Zoo & Botanical Garden   \n",
       "119         TEEMA Solutions Group Inc.   \n",
       "132                        Umpqua Bank   \n",
       "\n",
       "                                               Job  \\\n",
       "28   Research Analyst- 8.5bn AUM Wealth Management   \n",
       "60        Co-Op/Intern (WATER QUALITY & TREATMENT)   \n",
       "94                              Research Associate   \n",
       "119                      Machine Learning Engineer   \n",
       "132  Pivotus Ventures - Data Scientist - Palo Alto   \n",
       "\n",
       "                                Location                      Salary  \\\n",
       "28                        Cincinnati, OH  $100,000 - $125,000 a year   \n",
       "60                        Cincinnati, OH     $13.75 - $16.75 an hour   \n",
       "94   Cincinnati, OH 45220 (Clifton area)    $32,000 - $35,000 a year   \n",
       "119                    Mountain View, CA  $150,000 - $200,000 a year   \n",
       "132                        Palo Alto, CA  $100,000 - $160,000 a year   \n",
       "\n",
       "                           Skills  \n",
       "28                            NaN  \n",
       "60                            NaN  \n",
       "94                            NaN  \n",
       "119      Python Java Hadoop Spark  \n",
       "132  Python Java machine learning  "
      ]
     },
     "execution_count": 3,
     "metadata": {},
     "output_type": "execute_result"
    }
   ],
   "source": [
    "# Load the data set\n",
    "data_science = pd.read_csv('../5k_cities.csv')\n",
    "data_science = data_science[data_science['Salary']!='0']\n",
    "data_science.head()"
   ]
  },
  {
   "cell_type": "markdown",
   "metadata": {
    "focus": false,
    "id": "7d4bc860-b214-4f75-9cd0-b234830b1ec2"
   },
   "source": [
    "### 3. Convert salary into yearly (estimated) values\n",
    "\n",
    "The salary values come with different formats and full of punctuation characters such as ',', '$' and '-'. Therefore they have to be cleaned in order to be used. If a range is used in the value, the mean will be taken. If the time frame is not in a yearly format, the value will be rescaled to a yearly estimate.\n",
    "\n",
    "#### 3.1 Clean column"
   ]
  },
  {
   "cell_type": "code",
   "execution_count": 4,
   "metadata": {
    "collapsed": false,
    "focus": false,
    "id": "a0f701e0-80bd-40ba-9101-4535860c0968"
   },
   "outputs": [],
   "source": [
    "# Get salary period for later use\n",
    "data_science['Salary_period'] = data_science['Salary'].apply(lambda x: x.split()[-1])\n",
    "# Clear everything  except the numbers\n",
    "redunt_char = ['$',',','-','an','year','week','month','day','a','hour']\n",
    "for rc in redunt_char:\n",
    "    data_science['Salary'] = data_science['Salary'].apply(lambda x:x.replace(rc,''))\n"
   ]
  },
  {
   "cell_type": "markdown",
   "metadata": {},
   "source": [
    "#### 3.2 Extract minimum and maximum values to calculate mean"
   ]
  },
  {
   "cell_type": "code",
   "execution_count": 5,
   "metadata": {
    "collapsed": true
   },
   "outputs": [],
   "source": [
    "data_science['Salary_min'] = data_science['Salary'].apply(lambda x:float(x.split()[0]))\n",
    "data_science['Salary_max'] = data_science['Salary'].apply(lambda x:float(x.split()[-1]))\n",
    "data_science['Salary_mean'] = np.mean(data_science[['Salary_min','Salary_max']],axis =1)"
   ]
  },
  {
   "cell_type": "markdown",
   "metadata": {},
   "source": [
    "#### 3.3 Convert values into yearly estimates\n",
    "\n",
    "- Yearly values require no changes\n",
    "- Average working hours in the United States is 2087 per year according to <a href=''>this government source</a>\n",
    "- Mothly rates will be multiplied by 12\n",
    "- Weekly rate will be multiplied by 52\n",
    "- Daily rate will be multiplied by 260"
   ]
  },
  {
   "cell_type": "code",
   "execution_count": 6,
   "metadata": {
    "collapsed": false
   },
   "outputs": [
    {
     "data": {
      "text/html": [
       "<div>\n",
       "<table border=\"1\" class=\"dataframe\">\n",
       "  <thead>\n",
       "    <tr style=\"text-align: right;\">\n",
       "      <th></th>\n",
       "      <th>Company</th>\n",
       "      <th>Job</th>\n",
       "      <th>Location</th>\n",
       "      <th>Salary</th>\n",
       "      <th>Skills</th>\n",
       "      <th>Salary_period</th>\n",
       "      <th>Salary_min</th>\n",
       "      <th>Salary_max</th>\n",
       "      <th>Salary_mean</th>\n",
       "      <th>multiplyer</th>\n",
       "      <th>est_salary_yearly</th>\n",
       "    </tr>\n",
       "  </thead>\n",
       "  <tbody>\n",
       "    <tr>\n",
       "      <th>28</th>\n",
       "      <td>Selby Jennings</td>\n",
       "      <td>Research Analyst- 8.5bn AUM Wealth Management</td>\n",
       "      <td>Cincinnati, OH</td>\n",
       "      <td>100000  125000</td>\n",
       "      <td>NaN</td>\n",
       "      <td>year</td>\n",
       "      <td>100000.00</td>\n",
       "      <td>125000.00</td>\n",
       "      <td>112500.00</td>\n",
       "      <td>1</td>\n",
       "      <td>112500.00</td>\n",
       "    </tr>\n",
       "    <tr>\n",
       "      <th>60</th>\n",
       "      <td>City of Cincinnati</td>\n",
       "      <td>Co-Op/Intern (WATER QUALITY &amp; TREATMENT)</td>\n",
       "      <td>Cincinnati, OH</td>\n",
       "      <td>13.75  16.75</td>\n",
       "      <td>NaN</td>\n",
       "      <td>hour</td>\n",
       "      <td>13.75</td>\n",
       "      <td>16.75</td>\n",
       "      <td>15.25</td>\n",
       "      <td>2087</td>\n",
       "      <td>31826.75</td>\n",
       "    </tr>\n",
       "    <tr>\n",
       "      <th>94</th>\n",
       "      <td>Cincinnati Zoo &amp; Botanical Garden</td>\n",
       "      <td>Research Associate</td>\n",
       "      <td>Cincinnati, OH 45220 (Clifton area)</td>\n",
       "      <td>32000  35000</td>\n",
       "      <td>NaN</td>\n",
       "      <td>year</td>\n",
       "      <td>32000.00</td>\n",
       "      <td>35000.00</td>\n",
       "      <td>33500.00</td>\n",
       "      <td>1</td>\n",
       "      <td>33500.00</td>\n",
       "    </tr>\n",
       "    <tr>\n",
       "      <th>119</th>\n",
       "      <td>TEEMA Solutions Group Inc.</td>\n",
       "      <td>Machine Learning Engineer</td>\n",
       "      <td>Mountain View, CA</td>\n",
       "      <td>150000  200000</td>\n",
       "      <td>Python Java Hadoop Spark</td>\n",
       "      <td>year</td>\n",
       "      <td>150000.00</td>\n",
       "      <td>200000.00</td>\n",
       "      <td>175000.00</td>\n",
       "      <td>1</td>\n",
       "      <td>175000.00</td>\n",
       "    </tr>\n",
       "    <tr>\n",
       "      <th>132</th>\n",
       "      <td>Umpqua Bank</td>\n",
       "      <td>Pivotus Ventures - Data Scientist - Palo Alto</td>\n",
       "      <td>Palo Alto, CA</td>\n",
       "      <td>100000  160000</td>\n",
       "      <td>Python Java machine learning</td>\n",
       "      <td>year</td>\n",
       "      <td>100000.00</td>\n",
       "      <td>160000.00</td>\n",
       "      <td>130000.00</td>\n",
       "      <td>1</td>\n",
       "      <td>130000.00</td>\n",
       "    </tr>\n",
       "  </tbody>\n",
       "</table>\n",
       "</div>"
      ],
      "text/plain": [
       "                               Company  \\\n",
       "28                      Selby Jennings   \n",
       "60                  City of Cincinnati   \n",
       "94   Cincinnati Zoo & Botanical Garden   \n",
       "119         TEEMA Solutions Group Inc.   \n",
       "132                        Umpqua Bank   \n",
       "\n",
       "                                               Job  \\\n",
       "28   Research Analyst- 8.5bn AUM Wealth Management   \n",
       "60        Co-Op/Intern (WATER QUALITY & TREATMENT)   \n",
       "94                              Research Associate   \n",
       "119                      Machine Learning Engineer   \n",
       "132  Pivotus Ventures - Data Scientist - Palo Alto   \n",
       "\n",
       "                                Location            Salary  \\\n",
       "28                        Cincinnati, OH  100000  125000     \n",
       "60                        Cincinnati, OH    13.75  16.75     \n",
       "94   Cincinnati, OH 45220 (Clifton area)    32000  35000     \n",
       "119                    Mountain View, CA  150000  200000     \n",
       "132                        Palo Alto, CA  100000  160000     \n",
       "\n",
       "                           Skills Salary_period  Salary_min  Salary_max  \\\n",
       "28                            NaN          year   100000.00   125000.00   \n",
       "60                            NaN          hour       13.75       16.75   \n",
       "94                            NaN          year    32000.00    35000.00   \n",
       "119      Python Java Hadoop Spark          year   150000.00   200000.00   \n",
       "132  Python Java machine learning          year   100000.00   160000.00   \n",
       "\n",
       "     Salary_mean  multiplyer  est_salary_yearly  \n",
       "28     112500.00           1          112500.00  \n",
       "60         15.25        2087           31826.75  \n",
       "94      33500.00           1           33500.00  \n",
       "119    175000.00           1          175000.00  \n",
       "132    130000.00           1          130000.00  "
      ]
     },
     "execution_count": 6,
     "metadata": {},
     "output_type": "execute_result"
    }
   ],
   "source": [
    "# Create a multiplier column by mapping from the Salary_period\n",
    "data_science['multiplyer'] = data_science['Salary_period'].map({'year':1,'hour':2087,'month':12,'week':52,'day':260})\n",
    "data_science['est_salary_yearly'] = data_science['Salary_mean'] * data_science['multiplyer']\n",
    "data_science.head()"
   ]
  },
  {
   "cell_type": "markdown",
   "metadata": {},
   "source": [
    "Having obtained values for the estimated yearly salary, the following columns can be dropped:\n",
    "\n",
    "- Salary\n",
    "- Salary_min\n",
    "- Salary_max\n",
    "- Salary_mean\n",
    "- multiplyer"
   ]
  },
  {
   "cell_type": "code",
   "execution_count": 7,
   "metadata": {
    "collapsed": false
   },
   "outputs": [],
   "source": [
    "data_science = data_science.drop(['Salary','Salary_min','Salary_max','Salary_mean','multiplyer'],axis=1)"
   ]
  },
  {
   "cell_type": "code",
   "execution_count": 8,
   "metadata": {
    "collapsed": false
   },
   "outputs": [
    {
     "data": {
      "image/png": "[encoded data removed]",
      "text/plain": [
       "<matplotlib.figure.Figure at 0x117de99d0>"
      ]
     },
     "metadata": {},
     "output_type": "display_data"
    }
   ],
   "source": [
    "fig = plt.figure(figsize=(8,6))\n",
    "ax = fig.add_subplot(111)\n",
    "ax.hist(data_science['est_salary_yearly'], alpha=0.8)\n",
    "ax.set(xlabel = 'Yearly salary', ylabel = 'Counts', title = 'Data sceintist salary in major U.S cities')\n",
    "ax.axvline(data_science['est_salary_yearly'].mean(), c='g', alpha=0.5)\n",
    "ax.axvline(data_science['est_salary_yearly'].median(), c='r', alpha=0.5)\n",
    "plt.show()"
   ]
  },
  {
   "cell_type": "markdown",
   "metadata": {},
   "source": [
    "From the above figure it can be seen that the salary distribution is positively skewed with a median of less that $90000 dollars per year\n",
    "\n",
    "Then we move on to have a look at how the jobs are distributed amongst cities. Since the Location column contains infomation of the cities, we can use it. However the format can be messy as it also contains information about the state and possibly zip codes. Hence the city information is extracted and stored in a column called \"Area'."
   ]
  },
  {
   "cell_type": "code",
   "execution_count": 9,
   "metadata": {
    "collapsed": false
   },
   "outputs": [
    {
     "data": {
      "image/png": "[encoded data removed]",
      "text/plain": [
       "<matplotlib.figure.Figure at 0x117df31d0>"
      ]
     },
     "metadata": {},
     "output_type": "display_data"
    }
   ],
   "source": [
    "data_science['Area'] = data_science['Location'].apply(lambda x:x.split(',')[0])\n",
    "data_science['Area'].value_counts().plot(kind='barh', alpha = 0.8, figsize=(12,12))\n",
    "plt.show()"
   ]
  },
  {
   "cell_type": "code",
   "execution_count": 10,
   "metadata": {
    "collapsed": false
   },
   "outputs": [
    {
     "data": {
      "image/png": "[encoded data removed]",
      "text/plain": [
       "<matplotlib.figure.Figure at 0x118a96890>"
      ]
     },
     "metadata": {},
     "output_type": "display_data"
    }
   ],
   "source": [
    "# Comparisons between the top 10 entires\n",
    "data_science['Area'] = data_science['Location'].apply(lambda x:x.split(',')[0])\n",
    "data_science['Area'].value_counts()[:10].plot(kind='barh', alpha = 0.8, figsize=(8,6))\n",
    "plt.show()"
   ]
  },
  {
   "cell_type": "markdown",
   "metadata": {},
   "source": [
    "The above graphs tell us that New York has the most adverts in salaries. It is important to note that we can not assuem New York has the most job listings. This is because the data we are using currently has removed many lisitngs with no salary information."
   ]
  },
  {
   "cell_type": "code",
   "execution_count": 11,
   "metadata": {
    "collapsed": false
   },
   "outputs": [
    {
     "data": {
      "image/png": "[encoded data removed]",
      "text/plain": [
       "<matplotlib.figure.Figure at 0x11905c2d0>"
      ]
     },
     "metadata": {},
     "output_type": "display_data"
    }
   ],
   "source": [
    "data_science['Company'].value_counts()[:10].plot(kind = 'barh', figsize=(8,6), alpha=0.8, title= 'Copanies with most listing (w.salary) in indeed.com')\n",
    "plt.show()"
   ]
  },
  {
   "cell_type": "markdown",
   "metadata": {},
   "source": [
    "The above shows the top 10 organisations in terms of job listings with salary information"
   ]
  },
  {
   "cell_type": "code",
   "execution_count": 12,
   "metadata": {
    "collapsed": false
   },
   "outputs": [
    {
     "data": {
      "text/plain": [
       "<matplotlib.axes._subplots.AxesSubplot at 0x118b83990>"
      ]
     },
     "execution_count": 12,
     "metadata": {},
     "output_type": "execute_result"
    },
    {
     "data": {
      "image/png": "[encoded data removed]",
      "text/plain": [
       "<matplotlib.figure.Figure at 0x118aa9f90>"
      ]
     },
     "metadata": {},
     "output_type": "display_data"
    }
   ],
   "source": [
    "pd.pivot_table(data_science, index=['Salary_period'], values=['est_salary_yearly']).plot(kind='barh',figsize=(8,6), alpha=0.8)"
   ]
  },
  {
   "cell_type": "code",
   "execution_count": 13,
   "metadata": {
    "collapsed": false
   },
   "outputs": [
    {
     "data": {
      "text/plain": [
       "year     258\n",
       "hour      55\n",
       "month     51\n",
       "week       3\n",
       "day        1\n",
       "Name: Salary_period, dtype: int64"
      ]
     },
     "execution_count": 13,
     "metadata": {},
     "output_type": "execute_result"
    }
   ],
   "source": [
    "data_science['Salary_period'].value_counts()"
   ]
  },
  {
   "cell_type": "markdown",
   "metadata": {},
   "source": [
    "The figures above shows the relationship between salary time-frames and the mean salary of such category. It is not possible to spot an obvious trend or relationship from the figures above. Since the salary are advertised differently amongst the ads, one might suspect that it might be relevant to the job type. it is very common for permenant roles to advertise salary in the units of 'per year' and 'per month' whilst part time jobs are more likely to be 'per hour'. It can be seen that 'per week' and 'per day' is not usually used."
   ]
  },
  {
   "cell_type": "markdown",
   "metadata": {
    "collapsed": false,
    "focus": false,
    "id": "43e71edd-210e-42b1-9336-70a931f048af"
   },
   "source": [
    "### Save your results as a CSV"
   ]
  },
  {
   "cell_type": "code",
   "execution_count": 13,
   "metadata": {
    "collapsed": true,
    "focus": false,
    "id": "783fd153-28ac-47ab-bfca-27e7c1de95b4"
   },
   "outputs": [],
   "source": [
    "data_science.to_csv('cleaned_data_science.csv',encoding='utf-8',index=False)"
   ]
  },
  {
   "cell_type": "markdown",
   "metadata": {
    "focus": false,
    "id": "04563b69-f7b6-466f-9d65-fc62c9ddee6a"
   },
   "source": [
    "## Predicting salaries using Logistic Regression"
   ]
  },
  {
   "cell_type": "markdown",
   "metadata": {
    "focus": false,
    "id": "c7631f51-07f2-4c79-a093-3e9bc7849a48"
   },
   "source": [
    "#### We want to predict a binary variable - whether the salary was low or high. Compute the median salary and create a new binary variable that is true when the salary is high (above the median)\n",
    "\n",
    "We could also perform Linear Regression (or any regression) to predict the salary value here. Instead, we are going to convert this into a _binary_ classification problem, by predicting two classes, HIGH vs LOW salary.\n",
    "\n",
    "While performing regression may be better, performing classification may help remove some of the noise of the extreme salaries. We don't have to choice the `median` as the splitting point - we could also split on the 75th percentile or any other reasonable breaking point.\n",
    "\n",
    "In fact, the ideal scenario may be to predict many levels of salaries, "
   ]
  },
  {
   "cell_type": "code",
   "execution_count": 14,
   "metadata": {
    "collapsed": false,
    "focus": false,
    "id": "c20d2498-151c-44c3-a453-3a333c79a0ac"
   },
   "outputs": [
    {
     "data": {
      "text/html": [
       "<div>\n",
       "<table border=\"1\" class=\"dataframe\">\n",
       "  <thead>\n",
       "    <tr style=\"text-align: right;\">\n",
       "      <th></th>\n",
       "      <th>Company</th>\n",
       "      <th>Job</th>\n",
       "      <th>Location</th>\n",
       "      <th>Skills</th>\n",
       "      <th>Salary_period</th>\n",
       "      <th>est_salary_yearly</th>\n",
       "      <th>Area</th>\n",
       "      <th>high_salary</th>\n",
       "    </tr>\n",
       "  </thead>\n",
       "  <tbody>\n",
       "    <tr>\n",
       "      <th>28</th>\n",
       "      <td>Selby Jennings</td>\n",
       "      <td>Research Analyst- 8.5bn AUM Wealth Management</td>\n",
       "      <td>Cincinnati, OH</td>\n",
       "      <td>NaN</td>\n",
       "      <td>year</td>\n",
       "      <td>112500.00</td>\n",
       "      <td>Cincinnati</td>\n",
       "      <td>1</td>\n",
       "    </tr>\n",
       "    <tr>\n",
       "      <th>60</th>\n",
       "      <td>City of Cincinnati</td>\n",
       "      <td>Co-Op/Intern (WATER QUALITY &amp; TREATMENT)</td>\n",
       "      <td>Cincinnati, OH</td>\n",
       "      <td>NaN</td>\n",
       "      <td>hour</td>\n",
       "      <td>31826.75</td>\n",
       "      <td>Cincinnati</td>\n",
       "      <td>0</td>\n",
       "    </tr>\n",
       "    <tr>\n",
       "      <th>94</th>\n",
       "      <td>Cincinnati Zoo &amp; Botanical Garden</td>\n",
       "      <td>Research Associate</td>\n",
       "      <td>Cincinnati, OH 45220 (Clifton area)</td>\n",
       "      <td>NaN</td>\n",
       "      <td>year</td>\n",
       "      <td>33500.00</td>\n",
       "      <td>Cincinnati</td>\n",
       "      <td>0</td>\n",
       "    </tr>\n",
       "    <tr>\n",
       "      <th>119</th>\n",
       "      <td>TEEMA Solutions Group Inc.</td>\n",
       "      <td>Machine Learning Engineer</td>\n",
       "      <td>Mountain View, CA</td>\n",
       "      <td>Python Java Hadoop Spark</td>\n",
       "      <td>year</td>\n",
       "      <td>175000.00</td>\n",
       "      <td>Mountain View</td>\n",
       "      <td>1</td>\n",
       "    </tr>\n",
       "    <tr>\n",
       "      <th>132</th>\n",
       "      <td>Umpqua Bank</td>\n",
       "      <td>Pivotus Ventures - Data Scientist - Palo Alto</td>\n",
       "      <td>Palo Alto, CA</td>\n",
       "      <td>Python Java machine learning</td>\n",
       "      <td>year</td>\n",
       "      <td>130000.00</td>\n",
       "      <td>Palo Alto</td>\n",
       "      <td>1</td>\n",
       "    </tr>\n",
       "  </tbody>\n",
       "</table>\n",
       "</div>"
      ],
      "text/plain": [
       "                               Company  \\\n",
       "28                      Selby Jennings   \n",
       "60                  City of Cincinnati   \n",
       "94   Cincinnati Zoo & Botanical Garden   \n",
       "119         TEEMA Solutions Group Inc.   \n",
       "132                        Umpqua Bank   \n",
       "\n",
       "                                               Job  \\\n",
       "28   Research Analyst- 8.5bn AUM Wealth Management   \n",
       "60        Co-Op/Intern (WATER QUALITY & TREATMENT)   \n",
       "94                              Research Associate   \n",
       "119                      Machine Learning Engineer   \n",
       "132  Pivotus Ventures - Data Scientist - Palo Alto   \n",
       "\n",
       "                                Location                        Skills  \\\n",
       "28                        Cincinnati, OH                           NaN   \n",
       "60                        Cincinnati, OH                           NaN   \n",
       "94   Cincinnati, OH 45220 (Clifton area)                           NaN   \n",
       "119                    Mountain View, CA      Python Java Hadoop Spark   \n",
       "132                        Palo Alto, CA  Python Java machine learning   \n",
       "\n",
       "    Salary_period  est_salary_yearly           Area  high_salary  \n",
       "28           year          112500.00     Cincinnati            1  \n",
       "60           hour           31826.75     Cincinnati            0  \n",
       "94           year           33500.00     Cincinnati            0  \n",
       "119          year          175000.00  Mountain View            1  \n",
       "132          year          130000.00      Palo Alto            1  "
      ]
     },
     "execution_count": 14,
     "metadata": {},
     "output_type": "execute_result"
    }
   ],
   "source": [
    "salary_median = data_science['est_salary_yearly'].median()\n",
    "data_science['high_salary'] = data_science['est_salary_yearly'].apply(lambda x:1 if x > salary_median else 0)\n",
    "data_science.head()"
   ]
  },
  {
   "cell_type": "markdown",
   "metadata": {
    "focus": false,
    "id": "9c9274ef-c9f5-4d56-b286-ecc8709eff9f"
   },
   "source": [
    "#### Build this model with scikit-learn.\n",
    "- You can either create the dummy features manually or use the `dmatrix` function from `patsy`\n",
    "- Remember to scale the feature variables as well!\n"
   ]
  },
  {
   "cell_type": "code",
   "execution_count": 15,
   "metadata": {
    "collapsed": false,
    "focus": false,
    "id": "b76f65cd-cd3a-4e91-af55-12880be7b057"
   },
   "outputs": [
    {
     "data": {
      "text/plain": [
       "0.79619565217391308"
      ]
     },
     "execution_count": 15,
     "metadata": {},
     "output_type": "execute_result"
    }
   ],
   "source": [
    "from sklearn.linear_model import LogisticRegression as LOGREG\n",
    "from sklearn.metrics import accuracy_score\n",
    "x = pd.get_dummies(data_science['Location'], drop_first=True)\n",
    "y = data_science['high_salary']\n",
    "clf = LOGREG()\n",
    "model = clf.fit(x,y)\n",
    "pred = model.predict(x)\n",
    "accuracy_score(y,pred)"
   ]
  },
  {
   "cell_type": "markdown",
   "metadata": {},
   "source": [
    "If we look at the information contained in the Location column, some of them appear to be quite speciic which will introduce risks of overfitting. Therefore andother column ralted to Location, namely area is used to fit the model again and the result is shown in the cell below."
   ]
  },
  {
   "cell_type": "code",
   "execution_count": 16,
   "metadata": {
    "collapsed": false
   },
   "outputs": [
    {
     "data": {
      "text/plain": [
       "0.76086956521739135"
      ]
     },
     "execution_count": 16,
     "metadata": {},
     "output_type": "execute_result"
    }
   ],
   "source": [
    "x = pd.get_dummies(data_science['Area'],drop_first=True)\n",
    "model = clf.fit(x,y)\n",
    "pred = model.predict(x)\n",
    "accuracy_score(y,pred)"
   ]
  },
  {
   "cell_type": "markdown",
   "metadata": {},
   "source": [
    "It can be seen that the acccuracy has reduced from 79.6% to 76.4%. "
   ]
  },
  {
   "cell_type": "markdown",
   "metadata": {
    "focus": false,
    "id": "0ef04f32-419c-4bf2-baf7-48201f03df89"
   },
   "source": [
    "#### Create a few new variables in your dataframe to represent interesting features of a job title.\n",
    "- For example, create a feature that represents whether 'Senior' is in the title \n",
    "- or whether 'Manager' is in the title. \n",
    "- Then build a new Logistic Regression model with these features. Do they add any value? \n"
   ]
  },
  {
   "cell_type": "code",
   "execution_count": 17,
   "metadata": {
    "collapsed": false
   },
   "outputs": [],
   "source": [
    "# use count vectoriser to extract strings from job titles and skills required\n",
    "from sklearn.feature_extraction.text import CountVectorizer\n",
    "v = CountVectorizer(\n",
    "    binary=True,  # Create binary features\n",
    "    stop_words='english', # Ignore common words such as 'the', 'and'\n",
    "    max_features=50, # Only use the top 50 most common words\n",
    ")\n",
    "job = v.fit_transform(data_science.Job).todense()\n",
    "job = pd.DataFrame(job, columns=v.get_feature_names())\n",
    "data_science.Skills = data_science.Skills.fillna('NoREsult')\n",
    "skills = v.fit_transform(data_science.Skills).todense()\n",
    "skills = pd.DataFrame(skills, columns=v.get_feature_names())"
   ]
  },
  {
   "cell_type": "code",
   "execution_count": 18,
   "metadata": {
    "collapsed": false
   },
   "outputs": [
    {
     "data": {
      "text/plain": [
       "0.84239130434782605"
      ]
     },
     "execution_count": 18,
     "metadata": {},
     "output_type": "execute_result"
    }
   ],
   "source": [
    "# Job title accuracy\n",
    "model = clf.fit(job,y)\n",
    "pred = model.predict(job)\n",
    "accuracy_score(y,pred)"
   ]
  },
  {
   "cell_type": "code",
   "execution_count": 19,
   "metadata": {
    "collapsed": false
   },
   "outputs": [
    {
     "data": {
      "text/plain": [
       "0.68206521739130432"
      ]
     },
     "execution_count": 19,
     "metadata": {},
     "output_type": "execute_result"
    }
   ],
   "source": [
    "# Skills accuracy\n",
    "model = clf.fit(skills,y)\n",
    "pred = model.predict(skills)\n",
    "accuracy_score(y,pred)"
   ]
  },
  {
   "cell_type": "code",
   "execution_count": 20,
   "metadata": {
    "collapsed": false
   },
   "outputs": [
    {
     "data": {
      "text/plain": [
       "0.88586956521739135"
      ]
     },
     "execution_count": 20,
     "metadata": {},
     "output_type": "execute_result"
    }
   ],
   "source": [
    "# All values combined\n",
    "data_science.reset_index(drop=True,inplace=True)\n",
    "area = pd.get_dummies(data_science.Area)\n",
    "period = pd.get_dummies(data_science.Salary_period)\n",
    "# Need to reset index before concat\n",
    "combined_predictor = pd.concat([area,period,skills,job], axis=1)\n",
    "model = clf.fit(combined_predictor,y)\n",
    "pred = model.predict(combined_predictor)\n",
    "accuracy_score(y,pred)"
   ]
  },
  {
   "cell_type": "markdown",
   "metadata": {
    "focus": false,
    "id": "9367beff-72ba-4768-a0ba-a50b335de61d"
   },
   "source": [
    "#### Use cross-validation in scikit-learn to evaluate the model above. \n",
    "- Evaluate the accuracy, AUC, precision and recall of the model. \n",
    "- Discuss the differences and explain when you want a high-recall or a high-precision model in this scenario."
   ]
  },
  {
   "cell_type": "code",
   "execution_count": 22,
   "metadata": {
    "collapsed": false,
    "focus": false,
    "id": "269b9e7c-60b5-4a06-8255-881d7395bc1b"
   },
   "outputs": [
    {
     "name": "stdout",
     "output_type": "stream",
     "text": [
      "Precision:  0.79385524001\n",
      "Recall:  0.695652173913\n",
      "AUROC:  0.725543478261\n",
      "Accuracy:  0.725543478261\n",
      "Accuracy for each fold in cross validation:  [ 0.7826087   0.7173913   0.82608696  0.67391304  0.73913043  0.63043478\n",
      "  0.73913043  0.69565217]\n"
     ]
    }
   ],
   "source": [
    "from sklearn.cross_validation import cross_val_predict, cross_val_score, train_test_split\n",
    "from sklearn.metrics import f1_score, average_precision_score, recall_score, roc_auc_score\n",
    "pred = cross_val_predict(clf, combined_predictor, y, cv=8)\n",
    "scores = cross_val_score(clf, combined_predictor, y, cv=8)\n",
    "print 'Precision: ', average_precision_score(y,pred)\n",
    "print 'Recall: ', recall_score(y,pred)\n",
    "print 'AUROC: ', roc_auc_score(y,pred)\n",
    "print 'Accuracy: ',accuracy_score(y,pred)\n",
    "print 'Accuracy for each fold in cross validation: ',scores"
   ]
  },
  {
   "cell_type": "markdown",
   "metadata": {},
   "source": [
    "It can be observed that the accuracy has reduced substantially from 88.6% to 72.6%. This means in the previous model we could have overfitted hence the reduced performance in unseen data. The precision and reall are 0.79 and 0.69 respectively. This can be explained better using a confusion matrix"
   ]
  },
  {
   "cell_type": "code",
   "execution_count": 23,
   "metadata": {
    "collapsed": false
   },
   "outputs": [],
   "source": [
    "# Code extracted from week 4 day 4 code along\n",
    "import itertools\n",
    "from sklearn.metrics import confusion_matrix\n",
    "def plot_confusion_matrix(cm, classes, title='Confusion matrix', cmap=plt.cm.Blues):\n",
    "    plt.figure(figsize=(6,6))\n",
    "    plt.imshow(cm, interpolation='nearest', cmap=cmap)\n",
    "    plt.title(title)\n",
    "    plt.colorbar()\n",
    "    tick_marks = np.arange(len(classes))\n",
    "    plt.xticks(tick_marks, classes, rotation=45)\n",
    "    plt.yticks(tick_marks, classes)\n",
    "    thresh = cm.max() / 2.\n",
    "    for i, j in itertools.product(range(cm.shape[0]), range(cm.shape[1])):\n",
    "        plt.text(j, i, cm[i, j],\n",
    "                 horizontalalignment=\"center\",\n",
    "                 color=\"white\" if cm[i, j] > thresh else \"black\")\n",
    "    plt.ylabel('True label')\n",
    "    plt.xlabel('Predicted label')\n",
    "    plt.grid(visible=False)\n",
    "    plt.show()\n",
    "    return"
   ]
  },
  {
   "cell_type": "code",
   "execution_count": 24,
   "metadata": {
    "collapsed": false
   },
   "outputs": [
    {
     "data": {
      "image/png": "[encoded data removed]",
      "text/plain": [
       "<matplotlib.figure.Figure at 0x119c64410>"
      ]
     },
     "metadata": {},
     "output_type": "display_data"
    }
   ],
   "source": [
    "x_train, x_test, y_train, y_test = train_test_split(combined_predictor,y,test_size = 0.15, random_state=42)\n",
    "model = clf.fit(x_train,y_train)\n",
    "pred = model.predict(x_test)\n",
    "cnf_matrix=confusion_matrix(y_test, pred)\n",
    "plot_confusion_matrix(cnf_matrix, classes=model.classes_)"
   ]
  },
  {
   "cell_type": "markdown",
   "metadata": {},
   "source": [
    "Precision is calculated by: $$\\frac{True Positive}{True Positive + False Positive}$$\n",
    "\n",
    "and Recall is calculated by: $$\\frac{True Positive}{True Positive + False Negative}$$\n",
    "\n",
    "In our case precision is the probability that a job is high paid when we predict them to be high paid. Recall on the other hand represents how likely it is for us to predict high paying jobs as they are. Although in the first place they might sound similar, there are large implications behind these numbers. For example in medical diagnosis we would like a very high recall because we do not want a lot of false negative (which could be lethal). On the other hand if we were an intelligence officer during the cold war times, precision is critical. This is because we do not to mis-interpret a false positive missile attack and launch our own nuclear weapon (hence initiating a war, and/or the destruction of mankind...). However these two terms are trade-offs and we can not improve one without sacrifising the other (when we use the same model). Regarding to our problem, we do not wish to tell the client that he will receive high salary whereas in reality this is not true. Therefore we would like to maxmise precision by sacrifising recall.\n",
    "\n",
    "\n",
    "We understand that depending on the problem, precision and recall scores can help us to adjust how the algorithm behaves in order to give the best predictions. Another way to visulise this problem is through a metric call AUROC plot."
   ]
  },
  {
   "cell_type": "code",
   "execution_count": 26,
   "metadata": {
    "collapsed": true
   },
   "outputs": [],
   "source": [
    "# Code extracted from week 4 day 2 code along\n",
    "from sklearn.metrics import roc_curve,auc\n",
    "def auc_plotting_function(rate1, rate2, rate1_name, rate2_name, curve_name):\n",
    "    AUC = auc(rate1, rate2)\n",
    "    # Plot of a ROC curve for class 1 (has_cancer)\n",
    "    plt.figure(figsize=[8,6])\n",
    "    plt.plot(rate1, rate2, label=curve_name + ' (area = %0.2f)' % AUC, linewidth=4)\n",
    "    plt.plot([0, 1], [0, 1], 'k--', linewidth=4)\n",
    "    plt.xlim([0.0, 1.0])\n",
    "    plt.ylim([0.0, 1.05])\n",
    "    plt.xlabel(rate1_name, fontsize=18)\n",
    "    plt.ylabel(rate2_name, fontsize=18)\n",
    "    plt.title(curve_name + ' for house price > 200,000', fontsize=18)\n",
    "    plt.legend(loc=\"lower right\")\n",
    "    plt.show()\n",
    "\n",
    "# plot receiving operator characteristic curve\n",
    "def plot_roc(y_true, y_score):\n",
    "    fpr, tpr, _ = roc_curve(y_true, y_score)\n",
    "    auc_plotting_function(fpr, tpr, 'False Positive Rate (1-specificity)', 'True Positive Rate (Recall)', 'ROC')"
   ]
  },
  {
   "cell_type": "code",
   "execution_count": 27,
   "metadata": {
    "collapsed": false
   },
   "outputs": [
    {
     "data": {
      "image/png": "[encoded data removed]",
      "text/plain": [
       "<matplotlib.figure.Figure at 0x11910fe10>"
      ]
     },
     "metadata": {},
     "output_type": "display_data"
    }
   ],
   "source": [
    "y_score = clf.decision_function(x_test)\n",
    "plot_roc(y_test, y_score)"
   ]
  },
  {
   "cell_type": "markdown",
   "metadata": {},
   "source": [
    "From the plot above we can see that as recall increases so does false positive rate which means the reduction in precision."
   ]
  },
  {
   "cell_type": "markdown",
   "metadata": {
    "focus": false,
    "id": "8c22664b-92e4-4fc2-b7ac-fbac865845d3"
   },
   "source": [
    "#### Compare L1 and L2 regularization for this logistic regression model. What effect does this have on the coefficients learned?"
   ]
  },
  {
   "cell_type": "code",
   "execution_count": 28,
   "metadata": {
    "collapsed": false,
    "focus": false,
    "id": "172fd952-5012-4630-81f4-1206da6eb820"
   },
   "outputs": [
    {
     "name": "stdout",
     "output_type": "stream",
     "text": [
      "accuracy\n",
      "\n",
      "best parameters:  {'penalty': 'l2', 'C': 0.10000000000000001}\n",
      "best estimated scores:  0.75\n",
      "mean: 0.50000, std: 0.00000, params: {'penalty': 'l1', 'C': 1.0000000000000001e-05}\n",
      "mean: 0.67120, std: 0.04789, params: {'penalty': 'l2', 'C': 1.0000000000000001e-05}\n",
      "mean: 0.50000, std: 0.00000, params: {'penalty': 'l1', 'C': 0.0001}\n",
      "mean: 0.66576, std: 0.04337, params: {'penalty': 'l2', 'C': 0.0001}\n",
      "mean: 0.50000, std: 0.00000, params: {'penalty': 'l1', 'C': 0.001}\n",
      "mean: 0.67663, std: 0.03879, params: {'penalty': 'l2', 'C': 0.001}\n",
      "mean: 0.50000, std: 0.00000, params: {'penalty': 'l1', 'C': 0.01}\n",
      "mean: 0.72554, std: 0.07631, params: {'penalty': 'l2', 'C': 0.01}\n",
      "mean: 0.68750, std: 0.05503, params: {'penalty': 'l1', 'C': 0.10000000000000001}\n",
      "mean: 0.75000, std: 0.03587, params: {'penalty': 'l2', 'C': 0.10000000000000001}\n",
      "mean: 0.73913, std: 0.04803, params: {'penalty': 'l1', 'C': 1.0}\n",
      "mean: 0.74185, std: 0.05006, params: {'penalty': 'l2', 'C': 1.0}\n",
      "mean: 0.66576, std: 0.07073, params: {'penalty': 'l1', 'C': 10.0}\n",
      "mean: 0.68750, std: 0.05744, params: {'penalty': 'l2', 'C': 10.0}\n",
      "mean: 0.63043, std: 0.06402, params: {'penalty': 'l1', 'C': 100.0}\n",
      "mean: 0.64130, std: 0.06830, params: {'penalty': 'l2', 'C': 100.0}\n",
      "mean: 0.61957, std: 0.05609, params: {'penalty': 'l1', 'C': 1000.0}\n",
      "mean: 0.64946, std: 0.06177, params: {'penalty': 'l2', 'C': 1000.0}\n",
      "mean: 0.63043, std: 0.05762, params: {'penalty': 'l1', 'C': 10000.0}\n",
      "mean: 0.65489, std: 0.05850, params: {'penalty': 'l2', 'C': 10000.0}\n",
      "mean: 0.63043, std: 0.05502, params: {'penalty': 'l1', 'C': 100000.0}\n",
      "mean: 0.64674, std: 0.05395, params: {'penalty': 'l2', 'C': 100000.0}\n",
      "\n",
      "\n",
      "recall"
     ]
    },
    {
     "name": "stderr",
     "output_type": "stream",
     "text": [
      "//anaconda/lib/python2.7/site-packages/sklearn/grid_search.py:43: DeprecationWarning: This module was deprecated in version 0.18 in favor of the model_selection module into which all the refactored classes and functions are moved. This module will be removed in 0.20.\n",
      "  DeprecationWarning)\n",
      "//anaconda/lib/python2.7/site-packages/sklearn/metrics/classification.py:1113: UndefinedMetricWarning: Precision is ill-defined and being set to 0.0 due to no predicted samples.\n",
      "  'precision', 'predicted', average, warn_for)\n"
     ]
    },
    {
     "name": "stdout",
     "output_type": "stream",
     "text": [
      "\n",
      "\n",
      "best parameters:  {'penalty': 'l2', 'C': 1.0000000000000001e-05}\n",
      "best estimated scores:  0.91847826087\n",
      "mean: 0.00000, std: 0.00000, params: {'penalty': 'l1', 'C': 1.0000000000000001e-05}\n",
      "mean: 0.91848, std: 0.06348, params: {'penalty': 'l2', 'C': 1.0000000000000001e-05}\n",
      "mean: 0.00000, std: 0.00000, params: {'penalty': 'l1', 'C': 0.0001}\n",
      "mean: 0.90761, std: 0.06760, params: {'penalty': 'l2', 'C': 0.0001}\n",
      "mean: 0.00000, std: 0.00000, params: {'penalty': 'l1', 'C': 0.001}\n",
      "mean: 0.90217, std: 0.06531, params: {'penalty': 'l2', 'C': 0.001}\n",
      "mean: 0.00000, std: 0.00000, params: {'penalty': 'l1', 'C': 0.01}\n",
      "mean: 0.82609, std: 0.06758, params: {'penalty': 'l2', 'C': 0.01}\n",
      "mean: 0.61957, std: 0.10872, params: {'penalty': 'l1', 'C': 0.10000000000000001}\n",
      "mean: 0.76630, std: 0.10445, params: {'penalty': 'l2', 'C': 0.10000000000000001}\n",
      "mean: 0.76087, std: 0.16900, params: {'penalty': 'l1', 'C': 1.0}\n",
      "mean: 0.75000, std: 0.18913, params: {'penalty': 'l2', 'C': 1.0}\n",
      "mean: 0.75543, std: 0.16713, params: {'penalty': 'l1', 'C': 10.0}\n",
      "mean: 0.73370, std: 0.17280, params: {'penalty': 'l2', 'C': 10.0}\n",
      "mean: 0.69565, std: 0.16697, params: {'penalty': 'l1', 'C': 100.0}\n",
      "mean: 0.69022, std: 0.19205, params: {'penalty': 'l2', 'C': 100.0}\n",
      "mean: 0.67391, std: 0.15626, params: {'penalty': 'l1', 'C': 1000.0}\n",
      "mean: 0.70109, std: 0.17104, params: {'penalty': 'l2', 'C': 1000.0}\n",
      "mean: 0.68478, std: 0.18282, params: {'penalty': 'l1', 'C': 10000.0}\n",
      "mean: 0.68478, std: 0.16519, params: {'penalty': 'l2', 'C': 10000.0}\n",
      "mean: 0.68478, std: 0.16802, params: {'penalty': 'l1', 'C': 100000.0}\n",
      "mean: 0.67935, std: 0.15859, params: {'penalty': 'l2', 'C': 100000.0}\n",
      "\n",
      "\n",
      "precision\n",
      "\n",
      "best parameters:  {'penalty': 'l2', 'C': 1.0}\n",
      "best estimated scores:  0.769172695624\n",
      "mean: 0.00000, std: 0.00000, params: {'penalty': 'l1', 'C': 1.0000000000000001e-05}\n",
      "mean: 0.62126, std: 0.05484, params: {'penalty': 'l2', 'C': 1.0000000000000001e-05}\n",
      "mean: 0.00000, std: 0.00000, params: {'penalty': 'l1', 'C': 0.0001}\n",
      "mean: 0.61856, std: 0.05261, params: {'penalty': 'l2', 'C': 0.0001}\n",
      "mean: 0.00000, std: 0.00000, params: {'penalty': 'l1', 'C': 0.001}\n",
      "mean: 0.62909, std: 0.05458, params: {'penalty': 'l2', 'C': 0.001}\n",
      "mean: 0.00000, std: 0.00000, params: {'penalty': 'l1', 'C': 0.01}\n",
      "mean: 0.70866, std: 0.11876, params: {'penalty': 'l2', 'C': 0.01}\n",
      "mean: 0.76304, std: 0.14736, params: {'penalty': 'l1', 'C': 0.10000000000000001}\n",
      "mean: 0.76501, std: 0.10528, params: {'penalty': 'l2', 'C': 0.10000000000000001}\n",
      "mean: 0.75452, std: 0.10053, params: {'penalty': 'l1', 'C': 1.0}\n",
      "mean: 0.76917, std: 0.11827, params: {'penalty': 'l2', 'C': 1.0}\n",
      "mean: 0.63785, std: 0.04488, params: {'penalty': 'l1', 'C': 10.0}\n",
      "mean: 0.68916, std: 0.08686, params: {'penalty': 'l2', 'C': 10.0}\n",
      "mean: 0.61465, std: 0.04717, params: {'penalty': 'l1', 'C': 100.0}\n",
      "mean: 0.62351, std: 0.04008, params: {'penalty': 'l2', 'C': 100.0}\n",
      "mean: 0.60713, std: 0.04556, params: {'penalty': 'l1', 'C': 1000.0}\n",
      "mean: 0.63346, std: 0.04206, params: {'penalty': 'l2', 'C': 1000.0}\n",
      "mean: 0.63374, std: 0.09117, params: {'penalty': 'l1', 'C': 10000.0}\n",
      "mean: 0.66010, std: 0.08428, params: {'penalty': 'l2', 'C': 10000.0}\n",
      "mean: 0.62841, std: 0.08140, params: {'penalty': 'l1', 'C': 100000.0}\n",
      "mean: 0.65244, std: 0.08451, params: {'penalty': 'l2', 'C': 100000.0}\n",
      "\n",
      "\n"
     ]
    }
   ],
   "source": [
    "from sklearn.grid_search import GridSearchCV\n",
    "for scoring in ['accuracy','recall','precision']:\n",
    "    param = {'penalty':['l1','l2'], 'C':np.logspace(-5,5,11)}\n",
    "    gscv = GridSearchCV(clf,param, cv=5, scoring=scoring)\n",
    "    model = gscv.fit(combined_predictor,y)\n",
    "    print scoring\n",
    "    print ''\n",
    "    print 'best parameters: ', model.best_params_\n",
    "    print 'best estimated scores: ', model.best_score_\n",
    "    for row in model.grid_scores_:\n",
    "        print row\n",
    "    print ''\n",
    "    print ''"
   ]
  },
  {
   "cell_type": "markdown",
   "metadata": {},
   "source": [
    "Grid search provides a convenient way to test the best parameters for our model. In the above case we have printed the best hyper-parameters regarding different metrics. Since we would like to optimise for precision, a 'C' value of 1 will be used. A train test split with test size = 0.2 basically gives us the same train/test ratio in the previous grid search cv situation. This allows a good number of training samples to make sure the algorithim is trained properly."
   ]
  },
  {
   "cell_type": "code",
   "execution_count": 29,
   "metadata": {
    "collapsed": false
   },
   "outputs": [
    {
     "data": {
      "image/png": "[encoded data removed]",
      "text/plain": [
       "<matplotlib.figure.Figure at 0x119c64290>"
      ]
     },
     "metadata": {},
     "output_type": "display_data"
    },
    {
     "name": "stdout",
     "output_type": "stream",
     "text": [
      "             precision    recall  f1-score   support\n",
      "\n",
      "          0       0.85      0.82      0.84        34\n",
      "          1       0.85      0.88      0.86        40\n",
      "\n",
      "avg / total       0.85      0.85      0.85        74\n",
      "\n",
      "0.851351351351\n"
     ]
    }
   ],
   "source": [
    "from sklearn.metrics import classification_report\n",
    "x_train, x_test, y_train, y_test = train_test_split(combined_predictor,y,test_size = 0.2, random_state=24)\n",
    "clf = LOGREG(penalty='l2',C=1)\n",
    "model = clf.fit(x_train, y_train)\n",
    "pred = model.predict(x_test)\n",
    "cnf_matrix=confusion_matrix(y_test, pred)\n",
    "plot_confusion_matrix(cnf_matrix, classes=model.classes_)\n",
    "print classification_report(y_test,pred)\n",
    "print accuracy_score(y_test,pred)"
   ]
  },
  {
   "cell_type": "code",
   "execution_count": 132,
   "metadata": {
    "collapsed": true,
    "focus": false,
    "id": "3be94357-e551-4094-b784-2df039216d33"
   },
   "outputs": [],
   "source": [
    "# This function computes the coefficients for the variables in the model\n",
    "def examine_coefficients(model, df):\n",
    "    df = pd.DataFrame(\n",
    "        { 'Coefficient' : model.coef_[0] , 'Feature' : df.columns}\n",
    "    ).sort_values(by='Coefficient')\n",
    "    return df[df.Coefficient !=0 ]"
   ]
  },
  {
   "cell_type": "code",
   "execution_count": 133,
   "metadata": {
    "collapsed": false
   },
   "outputs": [
    {
     "data": {
      "text/html": [
       "<div>\n",
       "<table border=\"1\" class=\"dataframe\">\n",
       "  <thead>\n",
       "    <tr style=\"text-align: right;\">\n",
       "      <th></th>\n",
       "      <th>Coefficient</th>\n",
       "      <th>Feature</th>\n",
       "    </tr>\n",
       "  </thead>\n",
       "  <tbody>\n",
       "    <tr>\n",
       "      <th>85</th>\n",
       "      <td>-1.650358</td>\n",
       "      <td>unix</td>\n",
       "    </tr>\n",
       "    <tr>\n",
       "      <th>125</th>\n",
       "      <td>-1.401784</td>\n",
       "      <td>research</td>\n",
       "    </tr>\n",
       "    <tr>\n",
       "      <th>65</th>\n",
       "      <td>-1.259198</td>\n",
       "      <td>month</td>\n",
       "    </tr>\n",
       "    <tr>\n",
       "      <th>137</th>\n",
       "      <td>-0.989930</td>\n",
       "      <td>technician</td>\n",
       "    </tr>\n",
       "    <tr>\n",
       "      <th>37</th>\n",
       "      <td>-0.864312</td>\n",
       "      <td>Oakland</td>\n",
       "    </tr>\n",
       "    <tr>\n",
       "      <th>92</th>\n",
       "      <td>-0.846535</td>\n",
       "      <td>associate</td>\n",
       "    </tr>\n",
       "    <tr>\n",
       "      <th>111</th>\n",
       "      <td>-0.824737</td>\n",
       "      <td>laboratory</td>\n",
       "    </tr>\n",
       "    <tr>\n",
       "      <th>51</th>\n",
       "      <td>-0.806755</td>\n",
       "      <td>Seattle</td>\n",
       "    </tr>\n",
       "    <tr>\n",
       "      <th>84</th>\n",
       "      <td>-0.767144</td>\n",
       "      <td>tableau</td>\n",
       "    </tr>\n",
       "    <tr>\n",
       "      <th>40</th>\n",
       "      <td>-0.699980</td>\n",
       "      <td>Pittsburgh</td>\n",
       "    </tr>\n",
       "    <tr>\n",
       "      <th>77</th>\n",
       "      <td>-0.698035</td>\n",
       "      <td>perl</td>\n",
       "    </tr>\n",
       "    <tr>\n",
       "      <th>134</th>\n",
       "      <td>-0.681642</td>\n",
       "      <td>statistical</td>\n",
       "    </tr>\n",
       "    <tr>\n",
       "      <th>119</th>\n",
       "      <td>-0.616484</td>\n",
       "      <td>policy</td>\n",
       "    </tr>\n",
       "    <tr>\n",
       "      <th>82</th>\n",
       "      <td>-0.614206</td>\n",
       "      <td>spss</td>\n",
       "    </tr>\n",
       "    <tr>\n",
       "      <th>76</th>\n",
       "      <td>-0.512180</td>\n",
       "      <td>noresult</td>\n",
       "    </tr>\n",
       "    <tr>\n",
       "      <th>30</th>\n",
       "      <td>-0.478064</td>\n",
       "      <td>Manhattan</td>\n",
       "    </tr>\n",
       "    <tr>\n",
       "      <th>21</th>\n",
       "      <td>-0.463662</td>\n",
       "      <td>Greenbelt</td>\n",
       "    </tr>\n",
       "    <tr>\n",
       "      <th>106</th>\n",
       "      <td>-0.457992</td>\n",
       "      <td>financial</td>\n",
       "    </tr>\n",
       "    <tr>\n",
       "      <th>2</th>\n",
       "      <td>-0.437075</td>\n",
       "      <td>Andover</td>\n",
       "    </tr>\n",
       "    <tr>\n",
       "      <th>78</th>\n",
       "      <td>-0.419057</td>\n",
       "      <td>ph</td>\n",
       "    </tr>\n",
       "    <tr>\n",
       "      <th>133</th>\n",
       "      <td>-0.384429</td>\n",
       "      <td>staff</td>\n",
       "    </tr>\n",
       "    <tr>\n",
       "      <th>52</th>\n",
       "      <td>-0.372568</td>\n",
       "      <td>Smyrna</td>\n",
       "    </tr>\n",
       "    <tr>\n",
       "      <th>53</th>\n",
       "      <td>-0.354849</td>\n",
       "      <td>South San Francisco</td>\n",
       "    </tr>\n",
       "    <tr>\n",
       "      <th>86</th>\n",
       "      <td>-0.347928</td>\n",
       "      <td>vba</td>\n",
       "    </tr>\n",
       "    <tr>\n",
       "      <th>66</th>\n",
       "      <td>-0.347772</td>\n",
       "      <td>week</td>\n",
       "    </tr>\n",
       "    <tr>\n",
       "      <th>14</th>\n",
       "      <td>-0.346514</td>\n",
       "      <td>Campbell</td>\n",
       "    </tr>\n",
       "    <tr>\n",
       "      <th>19</th>\n",
       "      <td>-0.333098</td>\n",
       "      <td>Falls Church</td>\n",
       "    </tr>\n",
       "    <tr>\n",
       "      <th>27</th>\n",
       "      <td>-0.323924</td>\n",
       "      <td>Leander</td>\n",
       "    </tr>\n",
       "    <tr>\n",
       "      <th>136</th>\n",
       "      <td>-0.322107</td>\n",
       "      <td>support</td>\n",
       "    </tr>\n",
       "    <tr>\n",
       "      <th>98</th>\n",
       "      <td>-0.299080</td>\n",
       "      <td>coordinator</td>\n",
       "    </tr>\n",
       "    <tr>\n",
       "      <th>...</th>\n",
       "      <td>...</td>\n",
       "      <td>...</td>\n",
       "    </tr>\n",
       "    <tr>\n",
       "      <th>79</th>\n",
       "      <td>0.302462</td>\n",
       "      <td>python</td>\n",
       "    </tr>\n",
       "    <tr>\n",
       "      <th>110</th>\n",
       "      <td>0.311741</td>\n",
       "      <td>iii</td>\n",
       "    </tr>\n",
       "    <tr>\n",
       "      <th>48</th>\n",
       "      <td>0.343500</td>\n",
       "      <td>San Jose</td>\n",
       "    </tr>\n",
       "    <tr>\n",
       "      <th>42</th>\n",
       "      <td>0.353568</td>\n",
       "      <td>Quincy</td>\n",
       "    </tr>\n",
       "    <tr>\n",
       "      <th>10</th>\n",
       "      <td>0.354450</td>\n",
       "      <td>Boston</td>\n",
       "    </tr>\n",
       "    <tr>\n",
       "      <th>107</th>\n",
       "      <td>0.358548</td>\n",
       "      <td>health</td>\n",
       "    </tr>\n",
       "    <tr>\n",
       "      <th>60</th>\n",
       "      <td>0.384655</td>\n",
       "      <td>Washington</td>\n",
       "    </tr>\n",
       "    <tr>\n",
       "      <th>127</th>\n",
       "      <td>0.500445</td>\n",
       "      <td>scientist</td>\n",
       "    </tr>\n",
       "    <tr>\n",
       "      <th>114</th>\n",
       "      <td>0.543173</td>\n",
       "      <td>machine</td>\n",
       "    </tr>\n",
       "    <tr>\n",
       "      <th>35</th>\n",
       "      <td>0.549903</td>\n",
       "      <td>New York</td>\n",
       "    </tr>\n",
       "    <tr>\n",
       "      <th>116</th>\n",
       "      <td>0.554791</td>\n",
       "      <td>market</td>\n",
       "    </tr>\n",
       "    <tr>\n",
       "      <th>38</th>\n",
       "      <td>0.554885</td>\n",
       "      <td>Palo Alto</td>\n",
       "    </tr>\n",
       "    <tr>\n",
       "      <th>97</th>\n",
       "      <td>0.557626</td>\n",
       "      <td>company</td>\n",
       "    </tr>\n",
       "    <tr>\n",
       "      <th>36</th>\n",
       "      <td>0.562419</td>\n",
       "      <td>Norwood</td>\n",
       "    </tr>\n",
       "    <tr>\n",
       "      <th>12</th>\n",
       "      <td>0.587896</td>\n",
       "      <td>Burlington</td>\n",
       "    </tr>\n",
       "    <tr>\n",
       "      <th>13</th>\n",
       "      <td>0.606316</td>\n",
       "      <td>Cambridge</td>\n",
       "    </tr>\n",
       "    <tr>\n",
       "      <th>47</th>\n",
       "      <td>0.616991</td>\n",
       "      <td>San Francisco</td>\n",
       "    </tr>\n",
       "    <tr>\n",
       "      <th>130</th>\n",
       "      <td>0.618648</td>\n",
       "      <td>software</td>\n",
       "    </tr>\n",
       "    <tr>\n",
       "      <th>80</th>\n",
       "      <td>0.634081</td>\n",
       "      <td>sas</td>\n",
       "    </tr>\n",
       "    <tr>\n",
       "      <th>67</th>\n",
       "      <td>0.653789</td>\n",
       "      <td>year</td>\n",
       "    </tr>\n",
       "    <tr>\n",
       "      <th>49</th>\n",
       "      <td>0.696214</td>\n",
       "      <td>Santa Clara</td>\n",
       "    </tr>\n",
       "    <tr>\n",
       "      <th>128</th>\n",
       "      <td>0.724519</td>\n",
       "      <td>senior</td>\n",
       "    </tr>\n",
       "    <tr>\n",
       "      <th>102</th>\n",
       "      <td>0.826828</td>\n",
       "      <td>director</td>\n",
       "    </tr>\n",
       "    <tr>\n",
       "      <th>120</th>\n",
       "      <td>0.858547</td>\n",
       "      <td>principal</td>\n",
       "    </tr>\n",
       "    <tr>\n",
       "      <th>99</th>\n",
       "      <td>0.969885</td>\n",
       "      <td>data</td>\n",
       "    </tr>\n",
       "    <tr>\n",
       "      <th>104</th>\n",
       "      <td>0.993066</td>\n",
       "      <td>engineering</td>\n",
       "    </tr>\n",
       "    <tr>\n",
       "      <th>126</th>\n",
       "      <td>1.144616</td>\n",
       "      <td>science</td>\n",
       "    </tr>\n",
       "    <tr>\n",
       "      <th>113</th>\n",
       "      <td>1.197129</td>\n",
       "      <td>learning</td>\n",
       "    </tr>\n",
       "    <tr>\n",
       "      <th>103</th>\n",
       "      <td>1.329815</td>\n",
       "      <td>engineer</td>\n",
       "    </tr>\n",
       "    <tr>\n",
       "      <th>123</th>\n",
       "      <td>1.347677</td>\n",
       "      <td>quantitative</td>\n",
       "    </tr>\n",
       "  </tbody>\n",
       "</table>\n",
       "<p>126 rows × 2 columns</p>\n",
       "</div>"
      ],
      "text/plain": [
       "     Coefficient              Feature\n",
       "85     -1.650358                 unix\n",
       "125    -1.401784             research\n",
       "65     -1.259198                month\n",
       "137    -0.989930           technician\n",
       "37     -0.864312              Oakland\n",
       "92     -0.846535            associate\n",
       "111    -0.824737           laboratory\n",
       "51     -0.806755              Seattle\n",
       "84     -0.767144              tableau\n",
       "40     -0.699980           Pittsburgh\n",
       "77     -0.698035                 perl\n",
       "134    -0.681642          statistical\n",
       "119    -0.616484               policy\n",
       "82     -0.614206                 spss\n",
       "76     -0.512180             noresult\n",
       "30     -0.478064            Manhattan\n",
       "21     -0.463662            Greenbelt\n",
       "106    -0.457992            financial\n",
       "2      -0.437075              Andover\n",
       "78     -0.419057                   ph\n",
       "133    -0.384429                staff\n",
       "52     -0.372568               Smyrna\n",
       "53     -0.354849  South San Francisco\n",
       "86     -0.347928                  vba\n",
       "66     -0.347772                 week\n",
       "14     -0.346514             Campbell\n",
       "19     -0.333098         Falls Church\n",
       "27     -0.323924              Leander\n",
       "136    -0.322107              support\n",
       "98     -0.299080          coordinator\n",
       "..           ...                  ...\n",
       "79      0.302462               python\n",
       "110     0.311741                  iii\n",
       "48      0.343500             San Jose\n",
       "42      0.353568               Quincy\n",
       "10      0.354450               Boston\n",
       "107     0.358548               health\n",
       "60      0.384655           Washington\n",
       "127     0.500445            scientist\n",
       "114     0.543173              machine\n",
       "35      0.549903             New York\n",
       "116     0.554791               market\n",
       "38      0.554885            Palo Alto\n",
       "97      0.557626              company\n",
       "36      0.562419              Norwood\n",
       "12      0.587896           Burlington\n",
       "13      0.606316            Cambridge\n",
       "47      0.616991        San Francisco\n",
       "130     0.618648             software\n",
       "80      0.634081                  sas\n",
       "67      0.653789                 year\n",
       "49      0.696214          Santa Clara\n",
       "128     0.724519               senior\n",
       "102     0.826828             director\n",
       "120     0.858547            principal\n",
       "99      0.969885                 data\n",
       "104     0.993066          engineering\n",
       "126     1.144616              science\n",
       "113     1.197129             learning\n",
       "103     1.329815             engineer\n",
       "123     1.347677         quantitative\n",
       "\n",
       "[126 rows x 2 columns]"
      ]
     },
     "execution_count": 133,
     "metadata": {},
     "output_type": "execute_result"
    }
   ],
   "source": [
    "examine_coefficients(model,x_train)"
   ]
  },
  {
   "cell_type": "code",
   "execution_count": 134,
   "metadata": {
    "collapsed": false
   },
   "outputs": [
    {
     "data": {
      "text/plain": [
       "138"
      ]
     },
     "execution_count": 134,
     "metadata": {},
     "output_type": "execute_result"
    }
   ],
   "source": [
    "combined_predictor.shape[1]"
   ]
  },
  {
   "cell_type": "markdown",
   "metadata": {},
   "source": [
    "The above table shows the coefficients of the regression analysis. There are 126 of them and the total column number is 138. This shows that l2 regularisation can eliminate features from a group of predictors (a kind of feature selection). We can see that some terms such as quantitative and engineering have the highest coefficients. This means that their appearances in adverts are correlated to the job being high paid. On the other hand terms such as month and Oakland have negative values. This means that their precenses are likely correlated to the decrease in pay. "
   ]
  },
  {
   "cell_type": "markdown",
   "metadata": {},
   "source": [
    "# Report\n",
    "\n",
    "### 1. Introduction\n",
    "\n",
    "As our firm is expanding rapidly in the market, we always face the need and challenge of hiring new professionals to join our team. Since the market is field with competitors and talent accqusition and retension is not an easy task. We must strike a balance between the employee's salary and his ability in order to maintain the growth and profit whilst producing good results for customers. Therefore an investigation utilising machine learning algorithm is proposed in order to help us gauge the tradoff. The goal of this project is to obtain data from a popular job seeking platofrm indeed.com and achieve a predcition accuracy of over 50% as a baseline.\n",
    "\n",
    "### 2. Obtaining the data\n",
    "\n",
    "An algorithm is written to automaticall scrape data from indeed.com. From sources origin from indeed.com and a famous data science website called KDNuggets, it is decided that the job adverts from of 13 cities will be collected (see Appendix). The scraped data includes the information as described below:\n",
    "- Job title\n",
    "- Company name\n",
    "- Location\n",
    "- Salary if avialble\n",
    "- Skills mentioned in the exact advert\n",
    "\n",
    "The former 4 items can be obtained directly from indeed.com and the later needs to be scrapped from the exact job advert. This provides a challenge as the scrapping algorithm has difficulties in adapting to different webpage formats. This however can be solved by pre-defining a list of popular skills and check if there is a match in the page. Although this method might not be the most accurate, it is the easiest to implement and effective enough for this first exploration.\n",
    "\n",
    "Another problem encountered is that the response from indeed.com can produce random error (this error would return the 1st page of results no matter what we enter as input). Yet this problem is solved by maintaining a list of pages to scrape and keep working until all data is obtained.\n",
    "\n",
    "The resulting data is over 5000 instances. However we are only interested in instences which have salary information so this significanlt reduce the number to just above 300.\n",
    "\n",
    "The data are posted by the recruiting companies themselves so in this analysis we would assume them to be correct and without error. It is alos asusmed that the data are posted recently so we are obtaining updated results.\n",
    "\n",
    "### 3. Data Cleaning and exploratory analysis\n",
    "\n",
    "The obtained data has several formatting issues and missing values. They have to be dealt with in order for the analysis and prediction to be effective. Some extra columns are introduced as a result of feature engineering in order to try maximising the accuracy of the model. The most important cleaning is to transform the salary data into yearly estimates. This is because some salary data are presented in values per month/week/day/hour hence the transformation is necessary for fair comparison.\n",
    "\n",
    "The target variable of whether a job is high paid is also generated This is done by splitting the dataset into 2 categories using the median salary value. Median is used as central tendancy measurement because the distribution in salaries are positively skewed with little very high paying jobs (in relative terms).\n",
    "\n",
    "### 4. Model fitting and results\n",
    "\n",
    "It is decided that this problem should be treated as a classification problem because job advertising is a process with significant human intervention which introduce lots of error. Therefore an exact estimate using regression model is not the most appropriate. The initial model is fitted with only the locaion data and it generates a result of 78% However the location data has many specific values which can easily lead to overfitting (capturing noise rather than the trend). Therefore a more generalised attributes is used whihc only describes the city/town. This reduced the accuracy to 76%. Seeing the opportunity of increasing accuracy, more variables are introduced to the model. These variables takes into account of the job title, skills and payment rate. Combined with the area data they produce an accuracy of 88.6%\n",
    "\n",
    "\n",
    "Since we predict and test using the same data we are in great danger of making a model that overfits. Hence a 8 fold cross validation is used to futher reduce uncertainty in predicting new data. The average accuracy is reduced to 72% but we can be certain that the model would provide stable results. Then we move on to tune the parameters by altering regularisations. After repeatedly trying different combinations, the best accuracy result suggested is 75%. \n",
    "\n",
    "There is one importnat thing to consider is that we would rather tell a client incorrectly that they would get a lower salary job than that they would get a high salary job. Hence further tuning was implemented in order to reduce the number of false positive results. This model gives a precision of 0.85 and an accuracy of 85%. However we have to note that the high accuracy might be due to random chance as our model suggest a significantly lower value.\n",
    "\n",
    "After the model was created and fitted, the coefficients are extracted to see what keywords are more correlated to job salaries. It is found out that words such as 'engineer/ engineering' and 'quantitative' are positively related whilts 'technicain', 'monthly' and 'Oakland' are negatively related.\n",
    "\n",
    "### 5.Conclusion and future work\n",
    "\n",
    "From the work carried out it can be safely said that one can predict salaries using the data obtained from adverts. Our stable cross validated result suggests a good accuracy (75%) in comparison to pure guessing (50%). The model is also tuned to maximise precision in order to avoid giving false hopes to client.\n",
    "\n",
    "The project goal is achieved where we built a successful predictive model. However it is suggested that more results have to be obtained from the websites to improve the model. This is because considering all the job adverts in the internet, 300 samples are really small and the results are most likely not representative. The scrapping algorithm can aslo be improved to cure the problem of repetition mining which wastes lots of time."
   ]
  }
 ],
 "metadata": {
  "anaconda-cloud": {},
  "kernelspec": {
   "display_name": "Python [default]",
   "language": "python",
   "name": "python2"
  },
  "language_info": {
   "codemirror_mode": {
    "name": "ipython",
    "version": 2
   },
   "file_extension": ".py",
   "mimetype": "text/x-python",
   "name": "python",
   "nbconvert_exporter": "python",
   "pygments_lexer": "ipython2",
   "version": "2.7.12"
  }
 },
 "nbformat": 4,
 "nbformat_minor": 0
}
